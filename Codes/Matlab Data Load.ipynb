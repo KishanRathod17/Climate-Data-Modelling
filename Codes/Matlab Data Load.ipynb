{
 "cells": [
  {
   "cell_type": "code",
   "execution_count": 2,
   "id": "85b7fe5a",
   "metadata": {},
   "outputs": [],
   "source": [
    "import scipy.io\n",
    "import matplotlib.pyplot as plt\n",
    "import numpy as np"
   ]
  },
  {
   "cell_type": "code",
   "execution_count": 3,
   "id": "c9bbfea9",
   "metadata": {},
   "outputs": [
    {
     "data": {
      "text/plain": [
       "{'__header__': b'MATLAB 5.0 MAT-file, Platform: PCWIN64, Created on: Tue Feb 23 15:39:30 2021',\n",
       " '__version__': '1.0',\n",
       " '__globals__': [],\n",
       " 'sst_5_test': array([[26.69388717,  8.50716063, 28.82360059,  6.07735932, 28.4898813 ],\n",
       "        [27.44183978,  8.76619536, 28.95465062,  6.77213276, 29.35979887],\n",
       "        [27.34116451,  9.97555437, 28.6519744 ,  8.37855014, 29.44463326],\n",
       "        [26.95897684,  8.64417114, 28.86556182,  6.43016244, 29.23191855],\n",
       "        [27.6345461 ,  8.99520586, 28.86278907,  6.92417868, 30.03883777],\n",
       "        [27.80714764, 10.47960474, 28.68554067,  8.6498571 , 30.01299392],\n",
       "        [27.93612132,  8.75123672, 28.89145761,  6.18514836, 29.56319752],\n",
       "        [28.10694658,  8.88251026, 29.25908435,  6.60429236, 30.3994215 ],\n",
       "        [27.4900805 , 10.31137212, 28.75632931,  8.02021465, 30.10195041],\n",
       "        [26.61936946,  8.69995689, 28.71788883,  6.32643692, 28.94249749],\n",
       "        [27.37600696,  9.1050415 , 28.95286754,  6.71979957, 29.80713725],\n",
       "        [27.22592298, 10.48487297, 28.2447527 ,  8.10337752, 29.7097071 ],\n",
       "        [27.41144198,  8.36973958, 28.2549079 ,  5.96121791, 28.77100094],\n",
       "        [27.83721135,  8.8915781 , 28.21496272,  6.38540322, 29.92228038],\n",
       "        [27.65771976,  9.87517546, 27.78989862,  8.08500148, 29.80478699]])}"
      ]
     },
     "execution_count": 3,
     "metadata": {},
     "output_type": "execute_result"
    }
   ],
   "source": [
    "mat_data = scipy.io.loadmat(r\"C:\\Users\\ratho\\Desktop\\Software Group Project - III\\Climate Data Modelling\\RIDDHI\\wind_humidity_mam\\sst_5_test.mat\")\n",
    "mat_data"
   ]
  },
  {
   "cell_type": "code",
   "execution_count": 4,
   "id": "c31b27c2",
   "metadata": {},
   "outputs": [
    {
     "data": {
      "text/plain": [
       "dict_keys(['__header__', '__version__', '__globals__', 'sst_5_test'])"
      ]
     },
     "execution_count": 4,
     "metadata": {},
     "output_type": "execute_result"
    }
   ],
   "source": [
    "mat_data.keys()"
   ]
  },
  {
   "cell_type": "code",
   "execution_count": 5,
   "id": "2754955b",
   "metadata": {},
   "outputs": [],
   "source": [
    "ss=mat_data['sst_5_test']"
   ]
  },
  {
   "cell_type": "code",
   "execution_count": 6,
   "id": "b9882f96",
   "metadata": {},
   "outputs": [
    {
     "data": {
      "text/plain": [
       "(15, 5)"
      ]
     },
     "execution_count": 6,
     "metadata": {},
     "output_type": "execute_result"
    }
   ],
   "source": [
    "ss.shape"
   ]
  },
  {
   "cell_type": "code",
   "execution_count": 25,
   "id": "a88f3f2e",
   "metadata": {},
   "outputs": [
    {
     "data": {
      "text/plain": [
       "array([[[        nan,         nan,         nan,         nan],\n",
       "        [        nan,         nan,         nan,         nan],\n",
       "        [        nan,         nan,         nan,         nan],\n",
       "        ...,\n",
       "        [-1.79999995, -1.79999995, -1.79999995, -1.79999995],\n",
       "        [-1.79999995, -1.79999995, -1.79999995, -1.79999995],\n",
       "        [-1.79999995, -1.79999995, -1.79999995, -1.79999995]],\n",
       "\n",
       "       [[        nan,         nan,         nan,         nan],\n",
       "        [        nan,         nan,         nan,         nan],\n",
       "        [        nan,         nan,         nan,         nan],\n",
       "        ...,\n",
       "        [-1.79999995, -1.79999995, -1.79999995, -1.79999995],\n",
       "        [-1.79999995, -1.79999995, -1.79999995, -1.79999995],\n",
       "        [-1.79999995, -1.79999995, -1.79999995, -1.79999995]],\n",
       "\n",
       "       [[        nan,         nan,         nan,         nan],\n",
       "        [        nan,         nan,         nan,         nan],\n",
       "        [        nan,         nan,         nan,         nan],\n",
       "        ...,\n",
       "        [-1.79999995, -1.79999995, -1.79999995, -1.79999995],\n",
       "        [-1.79999995, -1.79999995, -1.79999995, -1.79999995],\n",
       "        [-1.79999995, -1.79999995, -1.79999995, -1.79999995]],\n",
       "\n",
       "       ...,\n",
       "\n",
       "       [[        nan,         nan,         nan,         nan],\n",
       "        [        nan,         nan,         nan,         nan],\n",
       "        [        nan,         nan,         nan,         nan],\n",
       "        ...,\n",
       "        [-1.79999995, -1.79999995, -1.79999995, -1.79999995],\n",
       "        [-1.79999995, -1.79999995, -1.79999995, -1.79999995],\n",
       "        [-1.79999995, -1.79999995, -1.79999995, -1.79999995]],\n",
       "\n",
       "       [[        nan,         nan,         nan,         nan],\n",
       "        [        nan,         nan,         nan,         nan],\n",
       "        [        nan,         nan,         nan,         nan],\n",
       "        ...,\n",
       "        [-1.79999995, -1.79999995, -1.79999995, -1.79999995],\n",
       "        [-1.79999995, -1.79999995, -1.79999995, -1.79999995],\n",
       "        [-1.79999995, -1.79999995, -1.79999995, -1.79999995]],\n",
       "\n",
       "       [[        nan,         nan,         nan,         nan],\n",
       "        [        nan,         nan,         nan,         nan],\n",
       "        [        nan,         nan,         nan,         nan],\n",
       "        ...,\n",
       "        [-1.79999995, -1.79999995, -1.79999995, -1.79999995],\n",
       "        [-1.79999995, -1.79999995, -1.79999995, -1.79999995],\n",
       "        [-1.79999995, -1.79999995, -1.79999995, -1.79999995]]])"
      ]
     },
     "execution_count": 25,
     "metadata": {},
     "output_type": "execute_result"
    }
   ],
   "source": [
    "ss[0]"
   ]
  },
  {
   "cell_type": "code",
   "execution_count": 28,
   "id": "7c730e84",
   "metadata": {},
   "outputs": [
    {
     "name": "stderr",
     "output_type": "stream",
     "text": [
      "Clipping input data to the valid range for imshow with RGB data ([0..1] for floats or [0..255] for integers).\n"
     ]
    },
    {
     "data": {
      "image/png": "[encoded data removed]",
      "text/plain": [
       "<Figure size 640x480 with 2 Axes>"
      ]
     },
     "metadata": {},
     "output_type": "display_data"
    }
   ],
   "source": [
    "PlotMap(ss[0])"
   ]
  },
  {
   "cell_type": "code",
   "execution_count": 12,
   "id": "14def446",
   "metadata": {},
   "outputs": [],
   "source": [
    "def PlotMap(data,year=0):\n",
    "    # Create a figure and axis for the plot\n",
    "    fig, ax = plt.subplots()\n",
    "\n",
    "    # Create a colormap\n",
    "    cmap = plt.get_cmap('rainbow')  # You can choose any other colormap you prefer\n",
    "\n",
    "    # Determine the appropriate color limits based on your data\n",
    "    vmin = data.min()  # Minimum value for the color scale\n",
    "    vmax = data.max()  # Maximum value for the color scale\n",
    "\n",
    "    # Plot the average yearly rainfall data using the colormap\n",
    "    im = ax.imshow(data, cmap=cmap, vmin=vmin, vmax=vmax, origin='lower')\n",
    "\n",
    "    # Add colorbar\n",
    "    cbar = plt.colorbar(im, ax=ax, label='Rainfall')\n",
    "\n",
    "    # Set axis labels\n",
    "    ax.set_xlabel('Longitude')\n",
    "    ax.set_ylabel('Latitude')\n",
    "    ax.set_title(f'Average Yearly Rainfall Data of {year} from June to September')"
   ]
  },
  {
   "cell_type": "code",
   "execution_count": 26,
   "id": "f6aee90c",
   "metadata": {},
   "outputs": [
    {
     "data": {
      "text/plain": [
       "array([-999., -999., -999., -999., -999., -999., -999., -999., -999.,\n",
       "       -999., -999., -999., -999., -999., -999., -999.])"
      ]
     },
     "execution_count": 26,
     "metadata": {},
     "output_type": "execute_result"
    }
   ],
   "source": [
    "# plt.imshow(ss[1], cmap='magma') \n",
    "ss[0][0][0] "
   ]
  },
  {
   "cell_type": "code",
   "execution_count": 13,
   "id": "729006d1",
   "metadata": {},
   "outputs": [
    {
     "data": {
      "text/plain": [
       "array([[-9.99e+02, -9.99e+02, -9.99e+02, -9.99e+02, -9.99e+02, -9.99e+02, -9.99e+02, -9.99e+02, -9.99e+02, -9.99e+02, -9.99e+02, -9.99e+02, -9.99e+02, -9.99e+02, -9.99e+02, -9.99e+02],\n",
       "       [-9.99e+02, -9.99e+02, -9.99e+02, -9.99e+02, -9.99e+02, -9.99e+02, -9.99e+02, -9.99e+02, -9.99e+02, -9.99e+02, -9.99e+02, -9.99e+02, -9.99e+02, -9.99e+02, -9.99e+02, -9.99e+02],\n",
       "       [-9.99e+02, -9.99e+02, -9.99e+02, -9.99e+02, -9.99e+02, -9.99e+02, -9.99e+02, -9.99e+02, -9.99e+02, -9.99e+02, -9.99e+02, -9.99e+02, -9.99e+02, -9.99e+02, -9.99e+02, -9.99e+02],\n",
       "       [-9.99e+02, -9.99e+02, -9.99e+02, -9.99e+02, -9.99e+02, -9.99e+02, -9.99e+02, -9.99e+02, -9.99e+02, -9.99e+02, -9.99e+02, -9.99e+02, -9.99e+02, -9.99e+02, -9.99e+02, -9.99e+02],\n",
       "       [-9.99e+02, -9.99e+02, -9.99e+02, -9.99e+02, -9.99e+02, -9.99e+02, -9.99e+02, -9.99e+02, -9.99e+02, -9.99e+02, -9.99e+02, -9.99e+02, -9.99e+02, -9.99e+02, -9.99e+02, -9.99e+02],\n",
       "       [-9.99e+02, -9.99e+02, -9.99e+02, -9.99e+02, -9.99e+02, -9.99e+02, -9.99e+02, -9.99e+02, -9.99e+02, -9.99e+02, -9.99e+02, -9.99e+02, -9.99e+02, -9.99e+02, -9.99e+02, -9.99e+02],\n",
       "       [-9.99e+02, -9.99e+02, -9.99e+02, -9.99e+02, -9.99e+02, -9.99e+02, -9.99e+02, -9.99e+02, -9.99e+02, -9.99e+02, -9.99e+02, -9.99e+02, -9.99e+02, -9.99e+02, -9.99e+02, -9.99e+02],\n",
       "       [-9.99e+02, -9.99e+02, -9.99e+02, -9.99e+02, -9.99e+02, -9.99e+02, -9.99e+02, -9.99e+02, -9.99e+02, -9.99e+02, -9.99e+02, -9.99e+02, -9.99e+02, -9.99e+02, -9.99e+02, -9.99e+02],\n",
       "       [-9.99e+02, -9.99e+02, -9.99e+02, -9.99e+02, -9.99e+02, -9.99e+02, -9.99e+02, -9.99e+02, -9.99e+02, -9.99e+02, -9.99e+02, -9.99e+02, -9.99e+02, -9.99e+02, -9.99e+02, -9.99e+02],\n",
       "       [-9.99e+02, -9.99e+02, -9.99e+02, -9.99e+02, -9.99e+02, -9.99e+02, -9.99e+02, -9.99e+02, -9.99e+02, -9.99e+02, -9.99e+02, -9.99e+02, -9.99e+02, -9.99e+02, -9.99e+02, -9.99e+02],\n",
       "       [-9.99e+02, -9.99e+02, -9.99e+02, -9.99e+02, -9.99e+02, -9.99e+02, -9.99e+02, -9.99e+02, -9.99e+02, -9.99e+02, -9.99e+02, -9.99e+02, -9.99e+02, -9.99e+02, -9.99e+02, -9.99e+02],\n",
       "       [-9.99e+02, -9.99e+02, -9.99e+02, -9.99e+02, -9.99e+02, -9.99e+02, -9.99e+02, -9.99e+02, -9.99e+02, -9.99e+02, -9.99e+02, -9.99e+02, -9.99e+02, -9.99e+02, -9.99e+02, -9.99e+02],\n",
       "       [-9.99e+02, -9.99e+02, -9.99e+02, -9.99e+02, -9.99e+02, -9.99e+02, -9.99e+02, -9.99e+02, -9.99e+02, -9.99e+02, -9.99e+02, -9.99e+02, -9.99e+02, -9.99e+02, -9.99e+02, -9.99e+02],\n",
       "       [-9.99e+02, -9.99e+02, -9.99e+02, -9.99e+02, -9.99e+02, -9.99e+02, -9.99e+02, -9.99e+02, -9.99e+02, -9.99e+02, -9.99e+02, -9.99e+02, -9.99e+02, -9.99e+02, -9.99e+02, -9.99e+02],\n",
       "       [-9.99e+02, -9.99e+02, -9.99e+02, -9.99e+02, -9.99e+02, -9.99e+02, -9.99e+02, -9.99e+02, -9.99e+02, -9.99e+02, -9.99e+02, -9.99e+02, -9.99e+02, -9.99e+02, -9.99e+02, -9.99e+02],\n",
       "       [-9.99e+02, -9.99e+02, -9.99e+02, -9.99e+02, -9.99e+02, -9.99e+02, -9.99e+02, -9.99e+02, -9.99e+02, -9.99e+02, -9.99e+02, -9.99e+02, -9.99e+02, -9.99e+02, -9.99e+02, -9.99e+02],\n",
       "       [-9.99e+02, -9.99e+02, -9.99e+02, -9.99e+02, -9.99e+02, -9.99e+02, -9.99e+02, -9.99e+02, -9.99e+02, -9.99e+02, -9.99e+02, -9.99e+02, -9.99e+02, -9.99e+02, -9.99e+02, -9.99e+02],\n",
       "       [-9.99e+02, -9.99e+02, -9.99e+02, -9.99e+02, -9.99e+02, -9.99e+02, -9.99e+02, -9.99e+02, -9.99e+02, -9.99e+02, -9.99e+02, -9.99e+02, -9.99e+02, -9.99e+02, -9.99e+02, -9.99e+02],\n",
       "       [-9.99e+02, -9.99e+02, -9.99e+02, -9.99e+02, -9.99e+02, -9.99e+02, -9.99e+02, -9.99e+02, -9.99e+02, -9.99e+02, -9.99e+02, -9.99e+02, -9.99e+02, -9.99e+02, -9.99e+02, -9.99e+02],\n",
       "       [-9.99e+02, -9.99e+02, -9.99e+02, -9.99e+02, -9.99e+02, -9.99e+02, -9.99e+02, -9.99e+02, -9.99e+02, -9.99e+02, -9.99e+02, -9.99e+02, -9.99e+02, -9.99e+02, -9.99e+02, -9.99e+02],\n",
       "       [-9.99e+02, -9.99e+02, -9.99e+02, -9.99e+02, -9.99e+02, -9.99e+02, -9.99e+02, -9.99e+02, -9.99e+02, -9.99e+02, -9.99e+02, -9.99e+02, -9.99e+02, -9.99e+02, -9.99e+02, -9.99e+02],\n",
       "       [-9.99e+02, -9.99e+02, -9.99e+02, -9.99e+02, -9.99e+02, -9.99e+02, -9.99e+02, -9.99e+02, -9.99e+02, -9.99e+02, -9.99e+02, -9.99e+02, -9.99e+02, -9.99e+02, -9.99e+02, -9.99e+02],\n",
       "       [-9.99e+02, -9.99e+02, -9.99e+02, -9.99e+02, -9.99e+02, -9.99e+02, -9.99e+02, -9.99e+02, -9.99e+02, -9.99e+02, -9.99e+02, -9.99e+02, -9.99e+02, -9.99e+02, -9.99e+02, -9.99e+02],\n",
       "       [-9.99e+02, -9.99e+02, -9.99e+02, -9.99e+02, -9.99e+02, -9.99e+02, -9.99e+02, -9.99e+02, -9.99e+02, -9.99e+02, -9.99e+02, -9.99e+02, -9.99e+02, -9.99e+02, -9.99e+02, -9.99e+02],\n",
       "       [-9.99e+02, -9.99e+02, -9.99e+02, -9.99e+02, -9.99e+02, -9.99e+02, -9.99e+02, -9.99e+02, -9.99e+02, -9.99e+02, -9.99e+02, -9.99e+02, -9.99e+02, -9.99e+02, -9.99e+02, -9.99e+02],\n",
       "       [-9.99e+02, -9.99e+02, -9.99e+02, -9.99e+02, -9.99e+02, -9.99e+02, -9.99e+02, -9.99e+02, -9.99e+02, -9.99e+02, -9.99e+02, -9.99e+02, -9.99e+02, -9.99e+02, -9.99e+02, -9.99e+02],\n",
       "       [-9.99e+02, -9.99e+02, -9.99e+02, -9.99e+02, -9.99e+02, -9.99e+02, -9.99e+02, -9.99e+02, -9.99e+02, -9.99e+02, -9.99e+02, -9.99e+02, -9.99e+02, -9.99e+02, -9.99e+02, -9.99e+02],\n",
       "       [-9.99e+02, -9.99e+02, -9.99e+02, -9.99e+02, -9.99e+02, -9.99e+02, -9.99e+02, -9.99e+02, -9.99e+02, -9.99e+02, -9.99e+02, -9.99e+02, -9.99e+02, -9.99e+02, -9.99e+02, -9.99e+02],\n",
       "       [-9.99e+02, -9.99e+02, -9.99e+02, -9.99e+02, -9.99e+02, -9.99e+02, -9.99e+02, -9.99e+02, -9.99e+02, -9.99e+02, -9.99e+02, -9.99e+02, -9.99e+02, -9.99e+02, -9.99e+02, -9.99e+02],\n",
       "       [-9.99e+02, -9.99e+02, -9.99e+02, -9.99e+02, -9.99e+02, -9.99e+02, -9.99e+02, -9.99e+02, -9.99e+02, -9.99e+02, -9.99e+02, -9.99e+02, -9.99e+02, -9.99e+02, -9.99e+02, -9.99e+02],\n",
       "       [-9.99e+02, -9.99e+02, -9.99e+02, -9.99e+02, -9.99e+02, -9.99e+02, -9.99e+02, -9.99e+02, -9.99e+02, -9.99e+02, -9.99e+02, -9.99e+02, -9.99e+02, -9.99e+02, -9.99e+02, -9.99e+02],\n",
       "       [-9.99e+02, -9.99e+02, -9.99e+02, -9.99e+02, -9.99e+02, -9.99e+02, -9.99e+02, -9.99e+02, -9.99e+02, -9.99e+02, -9.99e+02, -9.99e+02, -9.99e+02, -9.99e+02, -9.99e+02, -9.99e+02],\n",
       "       [ 0.00e+00,  0.00e+00,  0.00e+00,  0.00e+00,  1.70e+00,  4.60e+00,  0.00e+00,  0.00e+00,  0.00e+00,  0.00e+00,  0.00e+00,  0.00e+00,  0.00e+00,  0.00e+00,  0.00e+00,  7.10e+00],\n",
       "       [ 1.20e+00,  0.00e+00,  0.00e+00,  0.00e+00,  3.70e+00,  3.50e+00,  0.00e+00,  0.00e+00,  0.00e+00,  0.00e+00,  0.00e+00,  2.80e+00,  0.00e+00,  0.00e+00,  0.00e+00,  7.20e+00],\n",
       "       [ 6.90e+00,  0.00e+00,  0.00e+00,  0.00e+00,  3.30e+00,  2.00e+00,  0.00e+00,  0.00e+00,  0.00e+00,  0.00e+00,  0.00e+00,  4.00e+00,  0.00e+00,  0.00e+00,  0.00e+00,  8.40e+00],\n",
       "       [ 1.39e+01,  0.00e+00,  0.00e+00,  0.00e+00,  0.00e+00,  0.00e+00,  0.00e+00,  0.00e+00,  0.00e+00,  0.00e+00,  0.00e+00,  5.20e+00,  0.00e+00,  0.00e+00,  0.00e+00,  4.10e+00],\n",
       "       [ 5.20e+00,  0.00e+00,  0.00e+00,  0.00e+00,  0.00e+00,  0.00e+00,  0.00e+00,  0.00e+00,  0.00e+00,  0.00e+00,  0.00e+00,  0.00e+00,  0.00e+00,  0.00e+00,  0.00e+00,  1.30e+00],\n",
       "       [ 1.40e+00,  0.00e+00,  0.00e+00,  0.00e+00,  0.00e+00,  0.00e+00,  0.00e+00,  0.00e+00,  0.00e+00,  0.00e+00,  2.00e-01,  0.00e+00,  0.00e+00,  0.00e+00,  0.00e+00,  3.00e-01],\n",
       "       [ 1.00e+00,  0.00e+00,  0.00e+00,  0.00e+00,  0.00e+00,  0.00e+00,  0.00e+00,  0.00e+00,  0.00e+00,  0.00e+00,  0.00e+00,  0.00e+00,  0.00e+00,  2.00e-01,  0.00e+00,  9.00e-01],\n",
       "       [ 1.40e+00,  0.00e+00,  0.00e+00,  0.00e+00,  0.00e+00,  0.00e+00,  0.00e+00,  0.00e+00,  0.00e+00,  0.00e+00,  0.00e+00,  0.00e+00,  3.60e+00,  8.70e+00,  0.00e+00,  2.10e+00],\n",
       "       [ 2.70e+00,  0.00e+00,  0.00e+00,  0.00e+00,  0.00e+00,  0.00e+00,  0.00e+00,  0.00e+00,  0.00e+00,  0.00e+00,  0.00e+00,  0.00e+00,  1.14e+01,  1.98e+01,  0.00e+00,  3.50e+00],\n",
       "       [ 3.50e+00,  3.00e-01,  0.00e+00,  0.00e+00,  0.00e+00,  0.00e+00,  0.00e+00,  0.00e+00,  9.30e+00,  0.00e+00,  2.90e+00,  0.00e+00,  1.20e+00,  2.10e+00,  0.00e+00,  0.00e+00],\n",
       "       [ 7.10e+00,  1.40e+00,  0.00e+00,  0.00e+00,  0.00e+00,  8.00e-01,  0.00e+00,  0.00e+00,  6.40e+00,  0.00e+00,  5.90e+00,  0.00e+00,  0.00e+00,  1.60e+00,  0.00e+00,  5.00e+00],\n",
       "       [ 1.22e+01,  2.30e+00,  0.00e+00,  0.00e+00,  3.00e-01,  4.30e+00,  0.00e+00,  0.00e+00,  0.00e+00,  0.00e+00,  1.60e+00,  0.00e+00,  0.00e+00,  2.80e+00,  0.00e+00,  7.00e-01],\n",
       "       [ 1.06e+01,  2.70e+00,  0.00e+00,  0.00e+00,  1.20e+00,  2.00e-01,  0.00e+00,  0.00e+00,  0.00e+00,  0.00e+00,  6.00e-01,  0.00e+00,  3.50e+00,  5.70e+00,  0.00e+00,  3.70e+00],\n",
       "       [ 4.20e+00,  2.10e+00,  0.00e+00,  0.00e+00,  1.90e+00,  0.00e+00,  0.00e+00,  0.00e+00,  0.00e+00,  0.00e+00,  1.40e+00,  0.00e+00,  2.70e+00,  7.80e+00,  5.00e-01,  3.20e+00],\n",
       "       [ 6.00e-01,  2.10e+00,  0.00e+00,  0.00e+00,  2.20e+00,  0.00e+00,  0.00e+00,  0.00e+00,  0.00e+00,  0.00e+00,  3.00e-01,  0.00e+00,  4.00e-01,  4.80e+00,  3.00e-01,  0.00e+00],\n",
       "       [ 7.00e-01,  2.00e+00,  0.00e+00,  0.00e+00,  2.20e+00,  0.00e+00,  0.00e+00,  0.00e+00,  0.00e+00,  2.00e-01,  2.00e-01,  0.00e+00,  6.00e-01,  3.00e+00,  4.00e-01,  0.00e+00],\n",
       "       [ 1.50e+00,  2.00e+00,  0.00e+00,  0.00e+00,  2.20e+00,  0.00e+00,  0.00e+00,  0.00e+00,  0.00e+00,  3.00e-01,  0.00e+00,  0.00e+00,  2.70e+00,  1.10e+00,  1.00e-01,  0.00e+00],\n",
       "       [ 1.50e+00,  1.60e+00,  0.00e+00,  2.00e-01,  2.20e+00,  0.00e+00,  0.00e+00,  0.00e+00,  1.60e+01,  3.00e-01,  0.00e+00,  0.00e+00,  4.10e+00,  0.00e+00,  0.00e+00,  0.00e+00],\n",
       "       [ 3.50e+00,  2.00e-01,  0.00e+00,  9.00e-01,  3.10e+00,  2.80e+00,  0.00e+00,  0.00e+00,  0.00e+00,  0.00e+00,  3.40e+00,  0.00e+00,  8.10e+00,  1.00e-01,  0.00e+00,  0.00e+00],\n",
       "       [ 2.50e+00,  0.00e+00,  0.00e+00,  1.10e+00,  1.60e+00,  2.90e+00,  0.00e+00,  0.00e+00,  0.00e+00,  0.00e+00,  3.90e+00,  0.00e+00,  1.70e+01,  1.00e-01,  0.00e+00,  0.00e+00],\n",
       "       [ 1.70e+00,  0.00e+00,  0.00e+00,  1.20e+00,  7.00e-01,  2.90e+00,  0.00e+00,  0.00e+00,  0.00e+00,  0.00e+00,  4.40e+00,  0.00e+00,  1.69e+01,  1.00e-01,  0.00e+00,  0.00e+00],\n",
       "       [-9.99e+02, -9.99e+02, -9.99e+02, -9.99e+02, -9.99e+02, -9.99e+02, -9.99e+02, -9.99e+02, -9.99e+02, -9.99e+02, -9.99e+02, -9.99e+02, -9.99e+02, -9.99e+02, -9.99e+02, -9.99e+02],\n",
       "       [-9.99e+02, -9.99e+02, -9.99e+02, -9.99e+02, -9.99e+02, -9.99e+02, -9.99e+02, -9.99e+02, -9.99e+02, -9.99e+02, -9.99e+02, -9.99e+02, -9.99e+02, -9.99e+02, -9.99e+02, -9.99e+02],\n",
       "       [-9.99e+02, -9.99e+02, -9.99e+02, -9.99e+02, -9.99e+02, -9.99e+02, -9.99e+02, -9.99e+02, -9.99e+02, -9.99e+02, -9.99e+02, -9.99e+02, -9.99e+02, -9.99e+02, -9.99e+02, -9.99e+02],\n",
       "       [-9.99e+02, -9.99e+02, -9.99e+02, -9.99e+02, -9.99e+02, -9.99e+02, -9.99e+02, -9.99e+02, -9.99e+02, -9.99e+02, -9.99e+02, -9.99e+02, -9.99e+02, -9.99e+02, -9.99e+02, -9.99e+02],\n",
       "       [-9.99e+02, -9.99e+02, -9.99e+02, -9.99e+02, -9.99e+02, -9.99e+02, -9.99e+02, -9.99e+02, -9.99e+02, -9.99e+02, -9.99e+02, -9.99e+02, -9.99e+02, -9.99e+02, -9.99e+02, -9.99e+02],\n",
       "       [-9.99e+02, -9.99e+02, -9.99e+02, -9.99e+02, -9.99e+02, -9.99e+02, -9.99e+02, -9.99e+02, -9.99e+02, -9.99e+02, -9.99e+02, -9.99e+02, -9.99e+02, -9.99e+02, -9.99e+02, -9.99e+02],\n",
       "       [-9.99e+02, -9.99e+02, -9.99e+02, -9.99e+02, -9.99e+02, -9.99e+02, -9.99e+02, -9.99e+02, -9.99e+02, -9.99e+02, -9.99e+02, -9.99e+02, -9.99e+02, -9.99e+02, -9.99e+02, -9.99e+02],\n",
       "       [-9.99e+02, -9.99e+02, -9.99e+02, -9.99e+02, -9.99e+02, -9.99e+02, -9.99e+02, -9.99e+02, -9.99e+02, -9.99e+02, -9.99e+02, -9.99e+02, -9.99e+02, -9.99e+02, -9.99e+02, -9.99e+02],\n",
       "       [-9.99e+02, -9.99e+02, -9.99e+02, -9.99e+02, -9.99e+02, -9.99e+02, -9.99e+02, -9.99e+02, -9.99e+02, -9.99e+02, -9.99e+02, -9.99e+02, -9.99e+02, -9.99e+02, -9.99e+02, -9.99e+02],\n",
       "       [-9.99e+02, -9.99e+02, -9.99e+02, -9.99e+02, -9.99e+02, -9.99e+02, -9.99e+02, -9.99e+02, -9.99e+02, -9.99e+02, -9.99e+02, -9.99e+02, -9.99e+02, -9.99e+02, -9.99e+02, -9.99e+02],\n",
       "       [-9.99e+02, -9.99e+02, -9.99e+02, -9.99e+02, -9.99e+02, -9.99e+02, -9.99e+02, -9.99e+02, -9.99e+02, -9.99e+02, -9.99e+02, -9.99e+02, -9.99e+02, -9.99e+02, -9.99e+02, -9.99e+02],\n",
       "       [-9.99e+02, -9.99e+02, -9.99e+02, -9.99e+02, -9.99e+02, -9.99e+02, -9.99e+02, -9.99e+02, -9.99e+02, -9.99e+02, -9.99e+02, -9.99e+02, -9.99e+02, -9.99e+02, -9.99e+02, -9.99e+02],\n",
       "       [-9.99e+02, -9.99e+02, -9.99e+02, -9.99e+02, -9.99e+02, -9.99e+02, -9.99e+02, -9.99e+02, -9.99e+02, -9.99e+02, -9.99e+02, -9.99e+02, -9.99e+02, -9.99e+02, -9.99e+02, -9.99e+02],\n",
       "       [-9.99e+02, -9.99e+02, -9.99e+02, -9.99e+02, -9.99e+02, -9.99e+02, -9.99e+02, -9.99e+02, -9.99e+02, -9.99e+02, -9.99e+02, -9.99e+02, -9.99e+02, -9.99e+02, -9.99e+02, -9.99e+02],\n",
       "       [-9.99e+02, -9.99e+02, -9.99e+02, -9.99e+02, -9.99e+02, -9.99e+02, -9.99e+02, -9.99e+02, -9.99e+02, -9.99e+02, -9.99e+02, -9.99e+02, -9.99e+02, -9.99e+02, -9.99e+02, -9.99e+02],\n",
       "       [-9.99e+02, -9.99e+02, -9.99e+02, -9.99e+02, -9.99e+02, -9.99e+02, -9.99e+02, -9.99e+02, -9.99e+02, -9.99e+02, -9.99e+02, -9.99e+02, -9.99e+02, -9.99e+02, -9.99e+02, -9.99e+02],\n",
       "       [-9.99e+02, -9.99e+02, -9.99e+02, -9.99e+02, -9.99e+02, -9.99e+02, -9.99e+02, -9.99e+02, -9.99e+02, -9.99e+02, -9.99e+02, -9.99e+02, -9.99e+02, -9.99e+02, -9.99e+02, -9.99e+02],\n",
       "       [-9.99e+02, -9.99e+02, -9.99e+02, -9.99e+02, -9.99e+02, -9.99e+02, -9.99e+02, -9.99e+02, -9.99e+02, -9.99e+02, -9.99e+02, -9.99e+02, -9.99e+02, -9.99e+02, -9.99e+02, -9.99e+02],\n",
       "       [-9.99e+02, -9.99e+02, -9.99e+02, -9.99e+02, -9.99e+02, -9.99e+02, -9.99e+02, -9.99e+02, -9.99e+02, -9.99e+02, -9.99e+02, -9.99e+02, -9.99e+02, -9.99e+02, -9.99e+02, -9.99e+02],\n",
       "       [-9.99e+02, -9.99e+02, -9.99e+02, -9.99e+02, -9.99e+02, -9.99e+02, -9.99e+02, -9.99e+02, -9.99e+02, -9.99e+02, -9.99e+02, -9.99e+02, -9.99e+02, -9.99e+02, -9.99e+02, -9.99e+02],\n",
       "       [-9.99e+02, -9.99e+02, -9.99e+02, -9.99e+02, -9.99e+02, -9.99e+02, -9.99e+02, -9.99e+02, -9.99e+02, -9.99e+02, -9.99e+02, -9.99e+02, -9.99e+02, -9.99e+02, -9.99e+02, -9.99e+02],\n",
       "       [-9.99e+02, -9.99e+02, -9.99e+02, -9.99e+02, -9.99e+02, -9.99e+02, -9.99e+02, -9.99e+02, -9.99e+02, -9.99e+02, -9.99e+02, -9.99e+02, -9.99e+02, -9.99e+02, -9.99e+02, -9.99e+02],\n",
       "       [-9.99e+02, -9.99e+02, -9.99e+02, -9.99e+02, -9.99e+02, -9.99e+02, -9.99e+02, -9.99e+02, -9.99e+02, -9.99e+02, -9.99e+02, -9.99e+02, -9.99e+02, -9.99e+02, -9.99e+02, -9.99e+02],\n",
       "       [-9.99e+02, -9.99e+02, -9.99e+02, -9.99e+02, -9.99e+02, -9.99e+02, -9.99e+02, -9.99e+02, -9.99e+02, -9.99e+02, -9.99e+02, -9.99e+02, -9.99e+02, -9.99e+02, -9.99e+02, -9.99e+02],\n",
       "       [-9.99e+02, -9.99e+02, -9.99e+02, -9.99e+02, -9.99e+02, -9.99e+02, -9.99e+02, -9.99e+02, -9.99e+02, -9.99e+02, -9.99e+02, -9.99e+02, -9.99e+02, -9.99e+02, -9.99e+02, -9.99e+02],\n",
       "       [-9.99e+02, -9.99e+02, -9.99e+02, -9.99e+02, -9.99e+02, -9.99e+02, -9.99e+02, -9.99e+02, -9.99e+02, -9.99e+02, -9.99e+02, -9.99e+02, -9.99e+02, -9.99e+02, -9.99e+02, -9.99e+02],\n",
       "       [-9.99e+02, -9.99e+02, -9.99e+02, -9.99e+02, -9.99e+02, -9.99e+02, -9.99e+02, -9.99e+02, -9.99e+02, -9.99e+02, -9.99e+02, -9.99e+02, -9.99e+02, -9.99e+02, -9.99e+02, -9.99e+02],\n",
       "       [-9.99e+02, -9.99e+02, -9.99e+02, -9.99e+02, -9.99e+02, -9.99e+02, -9.99e+02, -9.99e+02, -9.99e+02, -9.99e+02, -9.99e+02, -9.99e+02, -9.99e+02, -9.99e+02, -9.99e+02, -9.99e+02],\n",
       "       [-9.99e+02, -9.99e+02, -9.99e+02, -9.99e+02, -9.99e+02, -9.99e+02, -9.99e+02, -9.99e+02, -9.99e+02, -9.99e+02, -9.99e+02, -9.99e+02, -9.99e+02, -9.99e+02, -9.99e+02, -9.99e+02],\n",
       "       [-9.99e+02, -9.99e+02, -9.99e+02, -9.99e+02, -9.99e+02, -9.99e+02, -9.99e+02, -9.99e+02, -9.99e+02, -9.99e+02, -9.99e+02, -9.99e+02, -9.99e+02, -9.99e+02, -9.99e+02, -9.99e+02],\n",
       "       [-9.99e+02, -9.99e+02, -9.99e+02, -9.99e+02, -9.99e+02, -9.99e+02, -9.99e+02, -9.99e+02, -9.99e+02, -9.99e+02, -9.99e+02, -9.99e+02, -9.99e+02, -9.99e+02, -9.99e+02, -9.99e+02],\n",
       "       [-9.99e+02, -9.99e+02, -9.99e+02, -9.99e+02, -9.99e+02, -9.99e+02, -9.99e+02, -9.99e+02, -9.99e+02, -9.99e+02, -9.99e+02, -9.99e+02, -9.99e+02, -9.99e+02, -9.99e+02, -9.99e+02],\n",
       "       [-9.99e+02, -9.99e+02, -9.99e+02, -9.99e+02, -9.99e+02, -9.99e+02, -9.99e+02, -9.99e+02, -9.99e+02, -9.99e+02, -9.99e+02, -9.99e+02, -9.99e+02, -9.99e+02, -9.99e+02, -9.99e+02],\n",
       "       [-9.99e+02, -9.99e+02, -9.99e+02, -9.99e+02, -9.99e+02, -9.99e+02, -9.99e+02, -9.99e+02, -9.99e+02, -9.99e+02, -9.99e+02, -9.99e+02, -9.99e+02, -9.99e+02, -9.99e+02, -9.99e+02],\n",
       "       [-9.99e+02, -9.99e+02, -9.99e+02, -9.99e+02, -9.99e+02, -9.99e+02, -9.99e+02, -9.99e+02, -9.99e+02, -9.99e+02, -9.99e+02, -9.99e+02, -9.99e+02, -9.99e+02, -9.99e+02, -9.99e+02],\n",
       "       [-9.99e+02, -9.99e+02, -9.99e+02, -9.99e+02, -9.99e+02, -9.99e+02, -9.99e+02, -9.99e+02, -9.99e+02, -9.99e+02, -9.99e+02, -9.99e+02, -9.99e+02, -9.99e+02, -9.99e+02, -9.99e+02],\n",
       "       [-9.99e+02, -9.99e+02, -9.99e+02, -9.99e+02, -9.99e+02, -9.99e+02, -9.99e+02, -9.99e+02, -9.99e+02, -9.99e+02, -9.99e+02, -9.99e+02, -9.99e+02, -9.99e+02, -9.99e+02, -9.99e+02],\n",
       "       [-9.99e+02, -9.99e+02, -9.99e+02, -9.99e+02, -9.99e+02, -9.99e+02, -9.99e+02, -9.99e+02, -9.99e+02, -9.99e+02, -9.99e+02, -9.99e+02, -9.99e+02, -9.99e+02, -9.99e+02, -9.99e+02],\n",
       "       [-9.99e+02, -9.99e+02, -9.99e+02, -9.99e+02, -9.99e+02, -9.99e+02, -9.99e+02, -9.99e+02, -9.99e+02, -9.99e+02, -9.99e+02, -9.99e+02, -9.99e+02, -9.99e+02, -9.99e+02, -9.99e+02],\n",
       "       [-9.99e+02, -9.99e+02, -9.99e+02, -9.99e+02, -9.99e+02, -9.99e+02, -9.99e+02, -9.99e+02, -9.99e+02, -9.99e+02, -9.99e+02, -9.99e+02, -9.99e+02, -9.99e+02, -9.99e+02, -9.99e+02],\n",
       "       [-9.99e+02, -9.99e+02, -9.99e+02, -9.99e+02, -9.99e+02, -9.99e+02, -9.99e+02, -9.99e+02, -9.99e+02, -9.99e+02, -9.99e+02, -9.99e+02, -9.99e+02, -9.99e+02, -9.99e+02, -9.99e+02],\n",
       "       [-9.99e+02, -9.99e+02, -9.99e+02, -9.99e+02, -9.99e+02, -9.99e+02, -9.99e+02, -9.99e+02, -9.99e+02, -9.99e+02, -9.99e+02, -9.99e+02, -9.99e+02, -9.99e+02, -9.99e+02, -9.99e+02],\n",
       "       [-9.99e+02, -9.99e+02, -9.99e+02, -9.99e+02, -9.99e+02, -9.99e+02, -9.99e+02, -9.99e+02, -9.99e+02, -9.99e+02, -9.99e+02, -9.99e+02, -9.99e+02, -9.99e+02, -9.99e+02, -9.99e+02],\n",
       "       [-9.99e+02, -9.99e+02, -9.99e+02, -9.99e+02, -9.99e+02, -9.99e+02, -9.99e+02, -9.99e+02, -9.99e+02, -9.99e+02, -9.99e+02, -9.99e+02, -9.99e+02, -9.99e+02, -9.99e+02, -9.99e+02],\n",
       "       [-9.99e+02, -9.99e+02, -9.99e+02, -9.99e+02, -9.99e+02, -9.99e+02, -9.99e+02, -9.99e+02, -9.99e+02, -9.99e+02, -9.99e+02, -9.99e+02, -9.99e+02, -9.99e+02, -9.99e+02, -9.99e+02],\n",
       "       [-9.99e+02, -9.99e+02, -9.99e+02, -9.99e+02, -9.99e+02, -9.99e+02, -9.99e+02, -9.99e+02, -9.99e+02, -9.99e+02, -9.99e+02, -9.99e+02, -9.99e+02, -9.99e+02, -9.99e+02, -9.99e+02],\n",
       "       [-9.99e+02, -9.99e+02, -9.99e+02, -9.99e+02, -9.99e+02, -9.99e+02, -9.99e+02, -9.99e+02, -9.99e+02, -9.99e+02, -9.99e+02, -9.99e+02, -9.99e+02, -9.99e+02, -9.99e+02, -9.99e+02],\n",
       "       [-9.99e+02, -9.99e+02, -9.99e+02, -9.99e+02, -9.99e+02, -9.99e+02, -9.99e+02, -9.99e+02, -9.99e+02, -9.99e+02, -9.99e+02, -9.99e+02, -9.99e+02, -9.99e+02, -9.99e+02, -9.99e+02],\n",
       "       [-9.99e+02, -9.99e+02, -9.99e+02, -9.99e+02, -9.99e+02, -9.99e+02, -9.99e+02, -9.99e+02, -9.99e+02, -9.99e+02, -9.99e+02, -9.99e+02, -9.99e+02, -9.99e+02, -9.99e+02, -9.99e+02],\n",
       "       [-9.99e+02, -9.99e+02, -9.99e+02, -9.99e+02, -9.99e+02, -9.99e+02, -9.99e+02, -9.99e+02, -9.99e+02, -9.99e+02, -9.99e+02, -9.99e+02, -9.99e+02, -9.99e+02, -9.99e+02, -9.99e+02],\n",
       "       [-9.99e+02, -9.99e+02, -9.99e+02, -9.99e+02, -9.99e+02, -9.99e+02, -9.99e+02, -9.99e+02, -9.99e+02, -9.99e+02, -9.99e+02, -9.99e+02, -9.99e+02, -9.99e+02, -9.99e+02, -9.99e+02],\n",
       "       [-9.99e+02, -9.99e+02, -9.99e+02, -9.99e+02, -9.99e+02, -9.99e+02, -9.99e+02, -9.99e+02, -9.99e+02, -9.99e+02, -9.99e+02, -9.99e+02, -9.99e+02, -9.99e+02, -9.99e+02, -9.99e+02],\n",
       "       [-9.99e+02, -9.99e+02, -9.99e+02, -9.99e+02, -9.99e+02, -9.99e+02, -9.99e+02, -9.99e+02, -9.99e+02, -9.99e+02, -9.99e+02, -9.99e+02, -9.99e+02, -9.99e+02, -9.99e+02, -9.99e+02],\n",
       "       [-9.99e+02, -9.99e+02, -9.99e+02, -9.99e+02, -9.99e+02, -9.99e+02, -9.99e+02, -9.99e+02, -9.99e+02, -9.99e+02, -9.99e+02, -9.99e+02, -9.99e+02, -9.99e+02, -9.99e+02, -9.99e+02],\n",
       "       [-9.99e+02, -9.99e+02, -9.99e+02, -9.99e+02, -9.99e+02, -9.99e+02, -9.99e+02, -9.99e+02, -9.99e+02, -9.99e+02, -9.99e+02, -9.99e+02, -9.99e+02, -9.99e+02, -9.99e+02, -9.99e+02],\n",
       "       [-9.99e+02, -9.99e+02, -9.99e+02, -9.99e+02, -9.99e+02, -9.99e+02, -9.99e+02, -9.99e+02, -9.99e+02, -9.99e+02, -9.99e+02, -9.99e+02, -9.99e+02, -9.99e+02, -9.99e+02, -9.99e+02],\n",
       "       [-9.99e+02, -9.99e+02, -9.99e+02, -9.99e+02, -9.99e+02, -9.99e+02, -9.99e+02, -9.99e+02, -9.99e+02, -9.99e+02, -9.99e+02, -9.99e+02, -9.99e+02, -9.99e+02, -9.99e+02, -9.99e+02],\n",
       "       [-9.99e+02, -9.99e+02, -9.99e+02, -9.99e+02, -9.99e+02, -9.99e+02, -9.99e+02, -9.99e+02, -9.99e+02, -9.99e+02, -9.99e+02, -9.99e+02, -9.99e+02, -9.99e+02, -9.99e+02, -9.99e+02],\n",
       "       [-9.99e+02, -9.99e+02, -9.99e+02, -9.99e+02, -9.99e+02, -9.99e+02, -9.99e+02, -9.99e+02, -9.99e+02, -9.99e+02, -9.99e+02, -9.99e+02, -9.99e+02, -9.99e+02, -9.99e+02, -9.99e+02],\n",
       "       [-9.99e+02, -9.99e+02, -9.99e+02, -9.99e+02, -9.99e+02, -9.99e+02, -9.99e+02, -9.99e+02, -9.99e+02, -9.99e+02, -9.99e+02, -9.99e+02, -9.99e+02, -9.99e+02, -9.99e+02, -9.99e+02],\n",
       "       [-9.99e+02, -9.99e+02, -9.99e+02, -9.99e+02, -9.99e+02, -9.99e+02, -9.99e+02, -9.99e+02, -9.99e+02, -9.99e+02, -9.99e+02, -9.99e+02, -9.99e+02, -9.99e+02, -9.99e+02, -9.99e+02],\n",
       "       [-9.99e+02, -9.99e+02, -9.99e+02, -9.99e+02, -9.99e+02, -9.99e+02, -9.99e+02, -9.99e+02, -9.99e+02, -9.99e+02, -9.99e+02, -9.99e+02, -9.99e+02, -9.99e+02, -9.99e+02, -9.99e+02],\n",
       "       [-9.99e+02, -9.99e+02, -9.99e+02, -9.99e+02, -9.99e+02, -9.99e+02, -9.99e+02, -9.99e+02, -9.99e+02, -9.99e+02, -9.99e+02, -9.99e+02, -9.99e+02, -9.99e+02, -9.99e+02, -9.99e+02],\n",
       "       [-9.99e+02, -9.99e+02, -9.99e+02, -9.99e+02, -9.99e+02, -9.99e+02, -9.99e+02, -9.99e+02, -9.99e+02, -9.99e+02, -9.99e+02, -9.99e+02, -9.99e+02, -9.99e+02, -9.99e+02, -9.99e+02],\n",
       "       [-9.99e+02, -9.99e+02, -9.99e+02, -9.99e+02, -9.99e+02, -9.99e+02, -9.99e+02, -9.99e+02, -9.99e+02, -9.99e+02, -9.99e+02, -9.99e+02, -9.99e+02, -9.99e+02, -9.99e+02, -9.99e+02],\n",
       "       [-9.99e+02, -9.99e+02, -9.99e+02, -9.99e+02, -9.99e+02, -9.99e+02, -9.99e+02, -9.99e+02, -9.99e+02, -9.99e+02, -9.99e+02, -9.99e+02, -9.99e+02, -9.99e+02, -9.99e+02, -9.99e+02],\n",
       "       [-9.99e+02, -9.99e+02, -9.99e+02, -9.99e+02, -9.99e+02, -9.99e+02, -9.99e+02, -9.99e+02, -9.99e+02, -9.99e+02, -9.99e+02, -9.99e+02, -9.99e+02, -9.99e+02, -9.99e+02, -9.99e+02],\n",
       "       [-9.99e+02, -9.99e+02, -9.99e+02, -9.99e+02, -9.99e+02, -9.99e+02, -9.99e+02, -9.99e+02, -9.99e+02, -9.99e+02, -9.99e+02, -9.99e+02, -9.99e+02, -9.99e+02, -9.99e+02, -9.99e+02],\n",
       "       [-9.99e+02, -9.99e+02, -9.99e+02, -9.99e+02, -9.99e+02, -9.99e+02, -9.99e+02, -9.99e+02, -9.99e+02, -9.99e+02, -9.99e+02, -9.99e+02, -9.99e+02, -9.99e+02, -9.99e+02, -9.99e+02],\n",
       "       [-9.99e+02, -9.99e+02, -9.99e+02, -9.99e+02, -9.99e+02, -9.99e+02, -9.99e+02, -9.99e+02, -9.99e+02, -9.99e+02, -9.99e+02, -9.99e+02, -9.99e+02, -9.99e+02, -9.99e+02, -9.99e+02],\n",
       "       [-9.99e+02, -9.99e+02, -9.99e+02, -9.99e+02, -9.99e+02, -9.99e+02, -9.99e+02, -9.99e+02, -9.99e+02, -9.99e+02, -9.99e+02, -9.99e+02, -9.99e+02, -9.99e+02, -9.99e+02, -9.99e+02],\n",
       "       [-9.99e+02, -9.99e+02, -9.99e+02, -9.99e+02, -9.99e+02, -9.99e+02, -9.99e+02, -9.99e+02, -9.99e+02, -9.99e+02, -9.99e+02, -9.99e+02, -9.99e+02, -9.99e+02, -9.99e+02, -9.99e+02],\n",
       "       [-9.99e+02, -9.99e+02, -9.99e+02, -9.99e+02, -9.99e+02, -9.99e+02, -9.99e+02, -9.99e+02, -9.99e+02, -9.99e+02, -9.99e+02, -9.99e+02, -9.99e+02, -9.99e+02, -9.99e+02, -9.99e+02],\n",
       "       [-9.99e+02, -9.99e+02, -9.99e+02, -9.99e+02, -9.99e+02, -9.99e+02, -9.99e+02, -9.99e+02, -9.99e+02, -9.99e+02, -9.99e+02, -9.99e+02, -9.99e+02, -9.99e+02, -9.99e+02, -9.99e+02],\n",
       "       [-9.99e+02, -9.99e+02, -9.99e+02, -9.99e+02, -9.99e+02, -9.99e+02, -9.99e+02, -9.99e+02, -9.99e+02, -9.99e+02, -9.99e+02, -9.99e+02, -9.99e+02, -9.99e+02, -9.99e+02, -9.99e+02],\n",
       "       [-9.99e+02, -9.99e+02, -9.99e+02, -9.99e+02, -9.99e+02, -9.99e+02, -9.99e+02, -9.99e+02, -9.99e+02, -9.99e+02, -9.99e+02, -9.99e+02, -9.99e+02, -9.99e+02, -9.99e+02, -9.99e+02],\n",
       "       [-9.99e+02, -9.99e+02, -9.99e+02, -9.99e+02, -9.99e+02, -9.99e+02, -9.99e+02, -9.99e+02, -9.99e+02, -9.99e+02, -9.99e+02, -9.99e+02, -9.99e+02, -9.99e+02, -9.99e+02, -9.99e+02],\n",
       "       [-9.99e+02, -9.99e+02, -9.99e+02, -9.99e+02, -9.99e+02, -9.99e+02, -9.99e+02, -9.99e+02, -9.99e+02, -9.99e+02, -9.99e+02, -9.99e+02, -9.99e+02, -9.99e+02, -9.99e+02, -9.99e+02],\n",
       "       [-9.99e+02, -9.99e+02, -9.99e+02, -9.99e+02, -9.99e+02, -9.99e+02, -9.99e+02, -9.99e+02, -9.99e+02, -9.99e+02, -9.99e+02, -9.99e+02, -9.99e+02, -9.99e+02, -9.99e+02, -9.99e+02],\n",
       "       [-9.99e+02, -9.99e+02, -9.99e+02, -9.99e+02, -9.99e+02, -9.99e+02, -9.99e+02, -9.99e+02, -9.99e+02, -9.99e+02, -9.99e+02, -9.99e+02, -9.99e+02, -9.99e+02, -9.99e+02, -9.99e+02],\n",
       "       [-9.99e+02, -9.99e+02, -9.99e+02, -9.99e+02, -9.99e+02, -9.99e+02, -9.99e+02, -9.99e+02, -9.99e+02, -9.99e+02, -9.99e+02, -9.99e+02, -9.99e+02, -9.99e+02, -9.99e+02, -9.99e+02],\n",
       "       [-9.99e+02, -9.99e+02, -9.99e+02, -9.99e+02, -9.99e+02, -9.99e+02, -9.99e+02, -9.99e+02, -9.99e+02, -9.99e+02, -9.99e+02, -9.99e+02, -9.99e+02, -9.99e+02, -9.99e+02, -9.99e+02]])"
      ]
     },
     "execution_count": 13,
     "metadata": {},
     "output_type": "execute_result"
    }
   ],
   "source": [
    "import numpy as np\n",
    "np.set_printoptions(threshold=np.inf, linewidth=np.inf)\n",
    "ss[0][99]"
   ]
  }
 ],
 "metadata": {
  "kernelspec": {
   "display_name": "Python 3 (ipykernel)",
   "language": "python",
   "name": "python3"
  },
  "language_info": {
   "codemirror_mode": {
    "name": "ipython",
    "version": 3
   },
   "file_extension": ".py",
   "mimetype": "text/x-python",
   "name": "python",
   "nbconvert_exporter": "python",
   "pygments_lexer": "ipython3",
   "version": "3.10.9"
  }
 },
 "nbformat": 4,
 "nbformat_minor": 5
}
