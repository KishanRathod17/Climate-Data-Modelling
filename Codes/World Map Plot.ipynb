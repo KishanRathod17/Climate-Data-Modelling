{
 "cells": [
  {
   "cell_type": "code",
   "execution_count": 2,
   "id": "bfae0d4b",
   "metadata": {},
   "outputs": [],
   "source": [
    "import netCDF4 as nc\n",
    "import numpy as np\n",
    "import pandas as pd\n",
    "import scipy.io as sio\n",
    "import matplotlib.pyplot as plt"
   ]
  },
  {
   "cell_type": "code",
   "execution_count": 3,
   "id": "15b20dc3",
   "metadata": {},
   "outputs": [
    {
     "data": {
      "text/plain": [
       "<class 'netCDF4._netCDF4.Dataset'>\n",
       "root group (NETCDF3_CLASSIC data model, file format NETCDF3):\n",
       "    Conventions: CF-1.6\n",
       "    Metadata_Conventions: CF-1.6, Unidata Dataset Discovery v1.0\n",
       "    metadata_link: C00884\n",
       "    id: ersst.190303\n",
       "    naming_authority: gov.noaa.ncdc\n",
       "    title: NOAA ERSSTv3b (in situ only)\n",
       "    summary: ERSST.v3b is developped based on Smith and Reynolds 2003\n",
       "    institution: NOAA/NESDIS/NCEI/CCOG\n",
       "    creator_name: Boyin Huang\n",
       "    creator_email: boyin.huang@noaa.gov\n",
       "    date_modified: 2017/01/27\n",
       "    production_version: Version 5\n",
       "    history: Fri Jan 27 08:57:44 2017: ncatted -O -a _FillValue,ssta,o,f,-999.0 ssta.nc\n",
       "Version 5 based on Version 4\n",
       "    publisher_name: Boyin Huang\n",
       "    publisher_email: boyin.huang@noaa.gov\n",
       "    creator_url: http://www.ncdc.noaa.gov\n",
       "    license: No constraints on data access or use\n",
       "    time_coverage_start: 1903-03-15T000000Z\n",
       "    time_coverage_end: 1903-03-15T000000Z\n",
       "    geospatial_lon_min: -1.0\n",
       "    geospatial_lon_max: 359.0\n",
       "    geospatial_lat_min: -89.0\n",
       "    geospatial_lat_max: 89.0\n",
       "    geospatial_lat_units: degrees_north\n",
       "    geospatial_lat_resolution: 2.0\n",
       "    geospatial_lon_units: degrees_east\n",
       "    geospatial_lon_resolution: 2.0\n",
       "    spatial_resolution: 2.0 degree grid\n",
       "    cdm_data_type: Grid\n",
       "    processing_level: L4\n",
       "    standard_name_vocabulary: CF Standard Name Table v27\n",
       "    keywords: Earth Science &gt; Oceans &gt; Ocean Temperature &gt; Sea Sur face Temperature &gt\n",
       "    keywords_vocabulary: NASA Global Change Master Directory (GCMD) Science Keywords\n",
       "    project: NOAA Extended Reconstructed Sea Surface Temperature (ERSST)\n",
       "    platform: Ship and Buoy SSTs from ICOADS R2.5 and NCEP GTS\n",
       "    instrument: Conventional thermometers\n",
       "    source: ICOADS R2.5 SST, NCEP GTS SST, HadISST ice, NCEP ice\n",
       "    comment: SSTs were observed by conventional thermometers in Buckets (in sulated or un-insulated canvas and wooded buckets), Engine Room Intakers, or floats and drifters\n",
       "    references: Smith, T.M., and R.W. Reynolds, 2003: Extended Reconstruction of Global Sea Surface Temperatures Based on COADS Data (1854-1997). Journal of Climate, 16, 1495-1510.\n",
       "    climatology: Climatology is based on 1971-2000 SST, Xue, Y., T. M. Smith, and R. W. Reynolds, 2003: Interdecadal changes of 30-yr SST normals during 1871.2000. Journal of Climate, 16, 1601-1612.\n",
       "    description: In situ data: ICOADS2.5 before 2007, NCEP in situ data from 2008 to present. Ice data: HadISST ice before 2015 and NCEP ice after 2015.\n",
       "    dimensions(sizes): lat(89), lev(1), lon(180), time(1)\n",
       "    variables(dimensions): float64 lat(lat), float64 lev(lev), float64 lon(lon), float32 sst(time, lev, lat, lon), float64 time(time), float32 ssta(time, lev, lat, lon)\n",
       "    groups: "
      ]
     },
     "execution_count": 3,
     "metadata": {},
     "output_type": "execute_result"
    }
   ],
   "source": [
    "fn = r\"C:\\Users\\ratho\\Desktop\\Software Group Project - III\\Climate Data Modelling\\RIDDHI\\old_code_summer_internship_may2020\\sst\\ersst.190303.nc\"\n",
    "ds = nc.Dataset(fn)\n",
    "ds"
   ]
  },
  {
   "cell_type": "code",
   "execution_count": 4,
   "id": "6f3cccaa",
   "metadata": {},
   "outputs": [],
   "source": [
    "import xarray as xr"
   ]
  },
  {
   "cell_type": "code",
   "execution_count": 5,
   "id": "3870b72f",
   "metadata": {},
   "outputs": [
    {
     "name": "stdout",
     "output_type": "stream",
     "text": [
      "<xarray.Dataset>\n",
      "Dimensions:  (lat: 89, lev: 1, lon: 180, time: 1)\n",
      "Coordinates:\n",
      "  * lat      (lat) float64 -88.0 -86.0 -84.0 -82.0 -80.0 ... 82.0 84.0 86.0 88.0\n",
      "  * lev      (lev) float64 0.0\n",
      "  * lon      (lon) float64 0.0 2.0 4.0 6.0 8.0 ... 350.0 352.0 354.0 356.0 358.0\n",
      "  * time     (time) datetime64[ns] 1903-03-01\n",
      "Data variables:\n",
      "    sst      (time, lev, lat, lon) float32 ...\n",
      "    ssta     (time, lev, lat, lon) float32 ...\n",
      "Attributes: (12/41)\n",
      "    Conventions:                CF-1.6\n",
      "    Metadata_Conventions:       CF-1.6, Unidata Dataset Discovery v1.0\n",
      "    metadata_link:              C00884\n",
      "    id:                         ersst.190303\n",
      "    naming_authority:           gov.noaa.ncdc\n",
      "    title:                      NOAA ERSSTv3b (in situ only)\n",
      "    ...                         ...\n",
      "    instrument:                 Conventional thermometers\n",
      "    source:                     ICOADS R2.5 SST, NCEP GTS SST, HadISST ice, N...\n",
      "    comment:                    SSTs were observed by conventional thermomete...\n",
      "    references:                 Smith, T.M., and R.W. Reynolds, 2003: Extende...\n",
      "    climatology:                Climatology is based on 1971-2000 SST, Xue, Y...\n",
      "    description:                In situ data: ICOADS2.5 before 2007, NCEP in ...\n"
     ]
    }
   ],
   "source": [
    "data = xr.open_dataset(r\"C:\\Users\\ratho\\Desktop\\Software Group Project - III\\Climate Data Modelling\\RIDDHI\\old_code_summer_internship_may2020\\sst\\ersst.190303.nc\")\n",
    "print(data)"
   ]
  },
  {
   "cell_type": "code",
   "execution_count": 6,
   "id": "7d7cf947",
   "metadata": {},
   "outputs": [
    {
     "name": "stdout",
     "output_type": "stream",
     "text": [
      "<xarray.DataArray 'sst' (time: 1, lev: 1, lat: 89, lon: 180)>\n",
      "[16020 values with dtype=float32]\n",
      "Coordinates:\n",
      "  * lat      (lat) float64 -88.0 -86.0 -84.0 -82.0 -80.0 ... 82.0 84.0 86.0 88.0\n",
      "  * lev      (lev) float64 0.0\n",
      "  * lon      (lon) float64 0.0 2.0 4.0 6.0 8.0 ... 350.0 352.0 354.0 356.0 358.0\n",
      "  * time     (time) datetime64[ns] 1903-03-01\n",
      "Attributes:\n",
      "    long_name:      Extended reconstructed sea surface temperature\n",
      "    standard_name:  SST\n",
      "    units:          degree_C\n",
      "    valid_min:      -3.0\n",
      "    valid_max:      45.0\n"
     ]
    }
   ],
   "source": [
    "print(data['sst'])"
   ]
  },
  {
   "cell_type": "code",
   "execution_count": 7,
   "id": "3a22d8a4",
   "metadata": {},
   "outputs": [],
   "source": [
    "import numpy as np\n",
    "from netCDF4 import Dataset\n",
    "from mpl_toolkits.basemap import Basemap"
   ]
  },
  {
   "cell_type": "code",
   "execution_count": 8,
   "id": "f0162db6",
   "metadata": {},
   "outputs": [
    {
     "name": "stdout",
     "output_type": "stream",
     "text": [
      "<class 'netCDF4._netCDF4.Dataset'>\n",
      "dict_keys(['lat', 'lev', 'lon', 'sst', 'time', 'ssta'])\n"
     ]
    }
   ],
   "source": [
    "file = r\"C:\\Users\\ratho\\Desktop\\Software Group Project - III\\Climate Data Modelling\\RIDDHI\\old_code_summer_internship_may2020\\sst\\ersst.190303.nc\"\n",
    "data = Dataset(file,mode='r')\n",
    "print(type(data))\n",
    "print(data.variables.keys())"
   ]
  },
  {
   "cell_type": "code",
   "execution_count": 9,
   "id": "5ae02f33",
   "metadata": {},
   "outputs": [],
   "source": [
    "lats = data.variables['lat'][:]\n",
    "levs = data.variables['lev'][:]\n",
    "lons = data.variables['lon'][:]\n",
    "sst = data.variables['sst'][:]\n",
    "time = data.variables['time'][:]\n",
    "ssta = data.variables['ssta'][:]"
   ]
  },
  {
   "cell_type": "code",
   "execution_count": 10,
   "id": "a58f9b03",
   "metadata": {},
   "outputs": [
    {
     "data": {
      "text/plain": [
       "(1, 1, 89, 180)"
      ]
     },
     "execution_count": 10,
     "metadata": {},
     "output_type": "execute_result"
    }
   ],
   "source": [
    "sst.shape"
   ]
  },
  {
   "cell_type": "code",
   "execution_count": 19,
   "id": "03c122f4",
   "metadata": {},
   "outputs": [],
   "source": [
    "mp = Basemap(projection='mill',\n",
    "             lat_ts = 10,\n",
    "             llcrnrlon=np.min(lons),   # lower longitude\n",
    "             llcrnrlat=np.min(lats),    # lower latitude\n",
    "             urcrnrlon=np.max(lons),   # uppper longitude\n",
    "             urcrnrlat=np.max(lats),   # uppper latitude\n",
    "            resolution = 'i')"
   ]
  },
  {
   "cell_type": "code",
   "execution_count": 20,
   "id": "54e07ec5",
   "metadata": {},
   "outputs": [
    {
     "ename": "IndexError",
     "evalue": "too many indices for array: array is 2-dimensional, but 3 were indexed",
     "output_type": "error",
     "traceback": [
      "\u001b[1;31m---------------------------------------------------------------------------\u001b[0m",
      "\u001b[1;31mIndexError\u001b[0m                                Traceback (most recent call last)",
      "Cell \u001b[1;32mIn[20], line 5\u001b[0m\n\u001b[0;32m      2\u001b[0m x,y \u001b[38;5;241m=\u001b[39m mp(lon,lat)\n\u001b[0;32m      4\u001b[0m plt\u001b[38;5;241m.\u001b[39mfigure(figsize\u001b[38;5;241m=\u001b[39m(\u001b[38;5;241m12\u001b[39m,\u001b[38;5;241m9\u001b[39m))\n\u001b[1;32m----> 5\u001b[0m c_schemes \u001b[38;5;241m=\u001b[39m mp\u001b[38;5;241m.\u001b[39mpcolor(x,y,np\u001b[38;5;241m.\u001b[39msqueeze(\u001b[43msst\u001b[49m\u001b[43m[\u001b[49m\u001b[38;5;241;43m0\u001b[39;49m\u001b[43m,\u001b[49m\u001b[43m:\u001b[49m\u001b[43m,\u001b[49m\u001b[43m:\u001b[49m\u001b[43m]\u001b[49m),cmap \u001b[38;5;241m=\u001b[39m \u001b[38;5;124m'\u001b[39m\u001b[38;5;124mjet\u001b[39m\u001b[38;5;124m'\u001b[39m) \u001b[38;5;66;03m# [0,:,:] is for the first day of the year)\u001b[39;00m\n\u001b[0;32m      8\u001b[0m \u001b[38;5;66;03m#Consider this as the outline for the map that is to be created \u001b[39;00m\n\u001b[0;32m      9\u001b[0m mp\u001b[38;5;241m.\u001b[39mdrawcoastlines()\n",
      "File \u001b[1;32m~\\anaconda3\\lib\\site-packages\\numpy\\ma\\core.py:3228\u001b[0m, in \u001b[0;36mMaskedArray.__getitem__\u001b[1;34m(self, indx)\u001b[0m\n\u001b[0;32m   3218\u001b[0m \u001b[38;5;124;03m\"\"\"\u001b[39;00m\n\u001b[0;32m   3219\u001b[0m \u001b[38;5;124;03mx.__getitem__(y) <==> x[y]\u001b[39;00m\n\u001b[0;32m   3220\u001b[0m \n\u001b[0;32m   3221\u001b[0m \u001b[38;5;124;03mReturn the item described by i, as a masked array.\u001b[39;00m\n\u001b[0;32m   3222\u001b[0m \n\u001b[0;32m   3223\u001b[0m \u001b[38;5;124;03m\"\"\"\u001b[39;00m\n\u001b[0;32m   3224\u001b[0m \u001b[38;5;66;03m# We could directly use ndarray.__getitem__ on self.\u001b[39;00m\n\u001b[0;32m   3225\u001b[0m \u001b[38;5;66;03m# But then we would have to modify __array_finalize__ to prevent the\u001b[39;00m\n\u001b[0;32m   3226\u001b[0m \u001b[38;5;66;03m# mask of being reshaped if it hasn't been set up properly yet\u001b[39;00m\n\u001b[0;32m   3227\u001b[0m \u001b[38;5;66;03m# So it's easier to stick to the current version\u001b[39;00m\n\u001b[1;32m-> 3228\u001b[0m dout \u001b[38;5;241m=\u001b[39m \u001b[38;5;28;43mself\u001b[39;49m\u001b[38;5;241;43m.\u001b[39;49m\u001b[43mdata\u001b[49m\u001b[43m[\u001b[49m\u001b[43mindx\u001b[49m\u001b[43m]\u001b[49m\n\u001b[0;32m   3229\u001b[0m _mask \u001b[38;5;241m=\u001b[39m \u001b[38;5;28mself\u001b[39m\u001b[38;5;241m.\u001b[39m_mask\n\u001b[0;32m   3231\u001b[0m \u001b[38;5;28;01mdef\u001b[39;00m \u001b[38;5;21m_is_scalar\u001b[39m(m):\n",
      "\u001b[1;31mIndexError\u001b[0m: too many indices for array: array is 2-dimensional, but 3 were indexed"
     ]
    },
    {
     "data": {
      "text/plain": [
       "<Figure size 1200x900 with 0 Axes>"
      ]
     },
     "metadata": {},
     "output_type": "display_data"
    }
   ],
   "source": [
    "lon,lat = np.meshgrid(lons,lats)\n",
    "x,y = mp(lon,lat)\n",
    "\n",
    "plt.figure(figsize=(12,9))\n",
    "c_schemes = mp.pcolor(x,y,np.squeeze(sst[0,:,:]),cmap = 'jet') # [0,:,:] is for the first day of the year)\n",
    "\n",
    "    \n",
    "#Consider this as the outline for the map that is to be created \n",
    "mp.drawcoastlines()\n",
    "mp.drawstates()\n",
    "mp.drawcountries()\n",
    "\n",
    "cbar = mp.colorbar(c_schemes,location='right',pad = '5%') # map information\n",
    "plt.title('Sea Surface Temperature Of The Year 1854')\n",
    "plt.show()"
   ]
  },
  {
   "cell_type": "code",
   "execution_count": 13,
   "id": "ca6b7865",
   "metadata": {},
   "outputs": [
    {
     "data": {
      "text/plain": [
       "(1, 1, 89, 180)"
      ]
     },
     "execution_count": 13,
     "metadata": {},
     "output_type": "execute_result"
    }
   ],
   "source": [
    "sst.shape"
   ]
  },
  {
   "cell_type": "code",
   "execution_count": 14,
   "id": "6f0b5d59",
   "metadata": {},
   "outputs": [
    {
     "data": {
      "text/html": [
       "<div>\n",
       "<style scoped>\n",
       "    .dataframe tbody tr th:only-of-type {\n",
       "        vertical-align: middle;\n",
       "    }\n",
       "\n",
       "    .dataframe tbody tr th {\n",
       "        vertical-align: top;\n",
       "    }\n",
       "\n",
       "    .dataframe thead th {\n",
       "        text-align: right;\n",
       "    }\n",
       "</style>\n",
       "<table border=\"1\" class=\"dataframe\">\n",
       "  <thead>\n",
       "    <tr style=\"text-align: right;\">\n",
       "      <th></th>\n",
       "      <th>0</th>\n",
       "      <th>1</th>\n",
       "      <th>2</th>\n",
       "      <th>3</th>\n",
       "      <th>4</th>\n",
       "      <th>5</th>\n",
       "      <th>6</th>\n",
       "      <th>7</th>\n",
       "      <th>8</th>\n",
       "      <th>9</th>\n",
       "      <th>...</th>\n",
       "      <th>170</th>\n",
       "      <th>171</th>\n",
       "      <th>172</th>\n",
       "      <th>173</th>\n",
       "      <th>174</th>\n",
       "      <th>175</th>\n",
       "      <th>176</th>\n",
       "      <th>177</th>\n",
       "      <th>178</th>\n",
       "      <th>179</th>\n",
       "    </tr>\n",
       "  </thead>\n",
       "  <tbody>\n",
       "    <tr>\n",
       "      <th>84</th>\n",
       "      <td>-1.726355</td>\n",
       "      <td>-1.537736</td>\n",
       "      <td>-1.547805</td>\n",
       "      <td>-0.794303</td>\n",
       "      <td>-0.15267</td>\n",
       "      <td>-0.704197</td>\n",
       "      <td>-1.336439</td>\n",
       "      <td>-1.599502</td>\n",
       "      <td>-1.631955</td>\n",
       "      <td>-1.777844</td>\n",
       "      <td>...</td>\n",
       "      <td>NaN</td>\n",
       "      <td>-1.8</td>\n",
       "      <td>-1.8</td>\n",
       "      <td>-1.8</td>\n",
       "      <td>-1.8</td>\n",
       "      <td>-1.8</td>\n",
       "      <td>-1.8</td>\n",
       "      <td>-1.8</td>\n",
       "      <td>-1.8</td>\n",
       "      <td>-1.8</td>\n",
       "    </tr>\n",
       "    <tr>\n",
       "      <th>85</th>\n",
       "      <td>-1.800000</td>\n",
       "      <td>-1.800000</td>\n",
       "      <td>-1.800000</td>\n",
       "      <td>-1.800000</td>\n",
       "      <td>-1.80000</td>\n",
       "      <td>-1.800000</td>\n",
       "      <td>-1.800000</td>\n",
       "      <td>-1.800000</td>\n",
       "      <td>-1.800000</td>\n",
       "      <td>-1.800000</td>\n",
       "      <td>...</td>\n",
       "      <td>-1.8</td>\n",
       "      <td>-1.8</td>\n",
       "      <td>-1.8</td>\n",
       "      <td>-1.8</td>\n",
       "      <td>-1.8</td>\n",
       "      <td>-1.8</td>\n",
       "      <td>-1.8</td>\n",
       "      <td>-1.8</td>\n",
       "      <td>-1.8</td>\n",
       "      <td>-1.8</td>\n",
       "    </tr>\n",
       "    <tr>\n",
       "      <th>86</th>\n",
       "      <td>-1.800000</td>\n",
       "      <td>-1.800000</td>\n",
       "      <td>-1.800000</td>\n",
       "      <td>-1.800000</td>\n",
       "      <td>-1.80000</td>\n",
       "      <td>-1.800000</td>\n",
       "      <td>-1.800000</td>\n",
       "      <td>-1.800000</td>\n",
       "      <td>-1.800000</td>\n",
       "      <td>-1.800000</td>\n",
       "      <td>...</td>\n",
       "      <td>-1.8</td>\n",
       "      <td>-1.8</td>\n",
       "      <td>-1.8</td>\n",
       "      <td>-1.8</td>\n",
       "      <td>-1.8</td>\n",
       "      <td>-1.8</td>\n",
       "      <td>-1.8</td>\n",
       "      <td>-1.8</td>\n",
       "      <td>-1.8</td>\n",
       "      <td>-1.8</td>\n",
       "    </tr>\n",
       "    <tr>\n",
       "      <th>87</th>\n",
       "      <td>-1.800000</td>\n",
       "      <td>-1.800000</td>\n",
       "      <td>-1.800000</td>\n",
       "      <td>-1.800000</td>\n",
       "      <td>-1.80000</td>\n",
       "      <td>-1.800000</td>\n",
       "      <td>-1.800000</td>\n",
       "      <td>-1.800000</td>\n",
       "      <td>-1.800000</td>\n",
       "      <td>-1.800000</td>\n",
       "      <td>...</td>\n",
       "      <td>-1.8</td>\n",
       "      <td>-1.8</td>\n",
       "      <td>-1.8</td>\n",
       "      <td>-1.8</td>\n",
       "      <td>-1.8</td>\n",
       "      <td>-1.8</td>\n",
       "      <td>-1.8</td>\n",
       "      <td>-1.8</td>\n",
       "      <td>-1.8</td>\n",
       "      <td>-1.8</td>\n",
       "    </tr>\n",
       "    <tr>\n",
       "      <th>88</th>\n",
       "      <td>-1.800000</td>\n",
       "      <td>-1.800000</td>\n",
       "      <td>-1.800000</td>\n",
       "      <td>-1.800000</td>\n",
       "      <td>-1.80000</td>\n",
       "      <td>-1.800000</td>\n",
       "      <td>-1.800000</td>\n",
       "      <td>-1.800000</td>\n",
       "      <td>-1.800000</td>\n",
       "      <td>-1.800000</td>\n",
       "      <td>...</td>\n",
       "      <td>-1.8</td>\n",
       "      <td>-1.8</td>\n",
       "      <td>-1.8</td>\n",
       "      <td>-1.8</td>\n",
       "      <td>-1.8</td>\n",
       "      <td>-1.8</td>\n",
       "      <td>-1.8</td>\n",
       "      <td>-1.8</td>\n",
       "      <td>-1.8</td>\n",
       "      <td>-1.8</td>\n",
       "    </tr>\n",
       "  </tbody>\n",
       "</table>\n",
       "<p>5 rows × 180 columns</p>\n",
       "</div>"
      ],
      "text/plain": [
       "         0         1         2         3        4         5         6    \\\n",
       "84 -1.726355 -1.537736 -1.547805 -0.794303 -0.15267 -0.704197 -1.336439   \n",
       "85 -1.800000 -1.800000 -1.800000 -1.800000 -1.80000 -1.800000 -1.800000   \n",
       "86 -1.800000 -1.800000 -1.800000 -1.800000 -1.80000 -1.800000 -1.800000   \n",
       "87 -1.800000 -1.800000 -1.800000 -1.800000 -1.80000 -1.800000 -1.800000   \n",
       "88 -1.800000 -1.800000 -1.800000 -1.800000 -1.80000 -1.800000 -1.800000   \n",
       "\n",
       "         7         8         9    ...  170  171  172  173  174  175  176  177  \\\n",
       "84 -1.599502 -1.631955 -1.777844  ...  NaN -1.8 -1.8 -1.8 -1.8 -1.8 -1.8 -1.8   \n",
       "85 -1.800000 -1.800000 -1.800000  ... -1.8 -1.8 -1.8 -1.8 -1.8 -1.8 -1.8 -1.8   \n",
       "86 -1.800000 -1.800000 -1.800000  ... -1.8 -1.8 -1.8 -1.8 -1.8 -1.8 -1.8 -1.8   \n",
       "87 -1.800000 -1.800000 -1.800000  ... -1.8 -1.8 -1.8 -1.8 -1.8 -1.8 -1.8 -1.8   \n",
       "88 -1.800000 -1.800000 -1.800000  ... -1.8 -1.8 -1.8 -1.8 -1.8 -1.8 -1.8 -1.8   \n",
       "\n",
       "    178  179  \n",
       "84 -1.8 -1.8  \n",
       "85 -1.8 -1.8  \n",
       "86 -1.8 -1.8  \n",
       "87 -1.8 -1.8  \n",
       "88 -1.8 -1.8  \n",
       "\n",
       "[5 rows x 180 columns]"
      ]
     },
     "execution_count": 14,
     "metadata": {},
     "output_type": "execute_result"
    }
   ],
   "source": [
    "sst = sst.reshape(89,180)\n",
    "X = pd.DataFrame(sst)\n",
    "X.tail()"
   ]
  },
  {
   "cell_type": "code",
   "execution_count": 15,
   "id": "0309a1e9",
   "metadata": {},
   "outputs": [
    {
     "data": {
      "text/plain": [
       "masked_array(\n",
       "  data=[[  0.,   2.,   4., ..., 354., 356., 358.],\n",
       "        [  0.,   2.,   4., ..., 354., 356., 358.],\n",
       "        [  0.,   2.,   4., ..., 354., 356., 358.],\n",
       "        ...,\n",
       "        [  0.,   2.,   4., ..., 354., 356., 358.],\n",
       "        [  0.,   2.,   4., ..., 354., 356., 358.],\n",
       "        [  0.,   2.,   4., ..., 354., 356., 358.]],\n",
       "  mask=False,\n",
       "  fill_value=1e+20)"
      ]
     },
     "execution_count": 15,
     "metadata": {},
     "output_type": "execute_result"
    }
   ],
   "source": [
    "lon"
   ]
  }
 ],
 "metadata": {
  "kernelspec": {
   "display_name": "Python 3 (ipykernel)",
   "language": "python",
   "name": "python3"
  },
  "language_info": {
   "codemirror_mode": {
    "name": "ipython",
    "version": 3
   },
   "file_extension": ".py",
   "mimetype": "text/x-python",
   "name": "python",
   "nbconvert_exporter": "python",
   "pygments_lexer": "ipython3",
   "version": "3.10.9"
  }
 },
 "nbformat": 4,
 "nbformat_minor": 5
}
