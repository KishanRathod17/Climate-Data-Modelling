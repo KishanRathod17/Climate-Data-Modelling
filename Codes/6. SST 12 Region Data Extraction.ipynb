{
 "cells": [
  {
   "cell_type": "code",
   "execution_count": 64,
   "id": "bfae0d4b",
   "metadata": {},
   "outputs": [],
   "source": [
    "import netCDF4 as nc\n",
    "import numpy as np\n",
    "import pandas as pd\n",
    "import scipy.io as sio\n",
    "import matplotlib.pyplot as plt\n",
    "import matplotlib.patches as patches\n",
    "import xarray \n",
    "import matplotlib.patches as mpatches\n",
    "import os\n"
   ]
  },
  {
   "cell_type": "code",
   "execution_count": 2,
   "id": "3870b72f",
   "metadata": {},
   "outputs": [],
   "source": [
    "#Accessing all the nc files\n",
    "path=[]\n",
    "\n",
    "months=[\"03\",\"04\",\"05\"]\n",
    "\n",
    "#Storing the paths in a array\n",
    "for i in range(1901,2023):\n",
    "    for j in months:\n",
    "        path.append(fr\"C:\\Users\\ratho\\Desktop\\Software Group Project - III\\Climate Data Modelling\\Data\\ERSST version 3B\\ersst.v5.{i}{j}.nc\")\n",
    "    \n",
    "    \n",
    "#Accessing all the datasets and storing all data in all_data list\n",
    "all_data=[]\n",
    "for i in path:\n",
    "    temp = xarray.open_dataset(i)\n",
    "    all_data.append(temp)\n",
    "\n"
   ]
  },
  {
   "cell_type": "code",
   "execution_count": 3,
   "id": "7d7cf947",
   "metadata": {},
   "outputs": [
    {
     "data": {
      "text/plain": [
       "366"
      ]
     },
     "execution_count": 3,
     "metadata": {},
     "output_type": "execute_result"
    }
   ],
   "source": [
    "len(all_data)"
   ]
  },
  {
   "cell_type": "code",
   "execution_count": 4,
   "id": "ca6b7865",
   "metadata": {},
   "outputs": [
    {
     "data": {
      "text/plain": [
       "(1, 1, 89, 180)"
      ]
     },
     "execution_count": 4,
     "metadata": {},
     "output_type": "execute_result"
    }
   ],
   "source": [
    "all_data[365]['ssta'].shape"
   ]
  },
  {
   "cell_type": "code",
   "execution_count": 5,
   "id": "68456000",
   "metadata": {},
   "outputs": [],
   "source": [
    "def PlotRegion(data,cluster=None):\n",
    "    \n",
    "    # Create a figure and axis for the plot\n",
    "    fig, ax = plt.subplots(figsize=(16,8))\n",
    "    \n",
    "    # Create a colormap\n",
    "    cmap = plt.get_cmap('rainbow')  # You can choose any other colormap you prefer\n",
    "\n",
    "    # Determine the appropriate color limits based on your data\n",
    "    vmin = -1 # Minimum value for the color scale\n",
    "    vmax = 1 # Maximum value for the color scale\n",
    "    \n",
    "           \n",
    "    # Plot the average yearly rainfall data using the colormap\n",
    "    im = ax.imshow(data, cmap=cmap, vmin=vmin, vmax=vmax, origin='lower')\n",
    "\n",
    "    # Add colorbar\n",
    "    cbar = plt.colorbar(im, ax=ax, label='Rainfall')\n",
    "\n",
    "    # Set axis labels\n",
    "    ax.set_xlabel('Longitude')\n",
    "    ax.set_ylabel('Latitude')\n",
    "    ax.set_title(f'World Map {cluster}')\n",
    "    \n",
    "    #plt.savefig(f'Cluster {cluster}.png', dpi=100, bbox_inches='tight')\n"
   ]
  },
  {
   "cell_type": "code",
   "execution_count": 6,
   "id": "0309a1e9",
   "metadata": {},
   "outputs": [],
   "source": [
    "def PlotMap(data,cluster=None):\n",
    "    \n",
    "    # Create a figure and axis for the plot\n",
    "    fig, ax = plt.subplots(figsize=(16,8))\n",
    "    \n",
    "    # Create a colormap\n",
    "    cmap = plt.get_cmap('rainbow')  # You can choose any other colormap you prefer\n",
    "\n",
    "    # Determine the appropriate color limits based on your data\n",
    "    vmin = data.min()  # Minimum value for the color scale\n",
    "    vmax = data.max() # Maximum value for the color scale\n",
    "    \n",
    "    regions = {\n",
    "        'Atlantic Nino': [[340//2, 360//2], [-5//2+45, 5//2+45]],\n",
    "        'Bay of Bengal': [[80//2, 100//2], [6//2+45, 20//2+45]],\n",
    "        'Zonal Mode': [[50//2, 70//2], [-10//2+45, 10//2+45]],\n",
    "        'Nino3': [[210//2, 270//2], [-5//2+45, 5//2+45]],\n",
    "        'Nino3.4': [[190//2, 240//2], [-5//2+45, 5//2+45]],\n",
    "        'Nino 4': [[160//2, 210//2], [-5//2+45, 5//2+45]],\n",
    "        'North Atlantic': [[300//2, 350//2], [30//2+45, 45//2+45]],\n",
    "        'North Pacific 1': [[140//2, 180//2], [30//2+45, 65//2+45]],\n",
    "        'North Pacific 2': [[200//2, 240//2], [30//2+45, 65//2+45]],\n",
    "        'South China Sea': [[110//2, 120//2], [5//2+45, 15//2+45]],\n",
    "        'Southern Indian Ocean': [[40//2, 100//2], [-5//2+45, 15//2+45]],\n",
    "        'Western Indian Ocean': [[50//2, 65//2], [-5//2+45, 10//2+45]],\n",
    "    \n",
    "      }\n",
    "    \n",
    "    colors = ['red', 'blue', 'green', 'yellow', 'magenta', 'cyan', \n",
    "          'orange', 'purple', 'brown', 'pink', 'gray', 'olive']\n",
    "    \n",
    "    i=0\n",
    "    for name, coords in regions.items():\n",
    "        x1, x2 = coords[0]\n",
    "        y1, y2 = coords[1]\n",
    "        rect = mpatches.Rectangle((x1, y1), x2-x1, y2-y1, linewidth=1, edgecolor=colors[i],facecolor='None')\n",
    "        ax.add_patch(rect)\n",
    "        i+=1\n",
    "        \n",
    "           \n",
    "    # Plot the average yearly rainfall data using the colormap\n",
    "    im = ax.imshow(data, cmap=cmap, vmin=vmin, vmax=vmax, origin='lower')\n",
    "\n",
    "    # Add colorbar\n",
    "    cbar = plt.colorbar(im, ax=ax, label='Rainfall')\n",
    "\n",
    "    # Set axis labels\n",
    "    ax.set_xlabel('Longitude')\n",
    "    ax.set_ylabel('Latitude')\n",
    "    ax.set_title(f'World Map {cluster}')\n",
    "    \n",
    "    #plt.savefig(f'Cluster {cluster}.png', dpi=100, bbox_inches='tight')\n"
   ]
  },
  {
   "cell_type": "code",
   "execution_count": 44,
   "id": "b1b4bc37",
   "metadata": {},
   "outputs": [],
   "source": [
    "def getRegionalData(data):\n",
    "    regions = {\n",
    "    'Atlantic Nino': [[340//2, 360//2], [-5//2+45, 5//2+45]],\n",
    "    'Bay of Bengal': [[80//2, 100//2], [6//2+45, 20//2+45]],\n",
    "    'Zonal Mode': [[50//2, 70//2], [-10//2+45, 10//2+45]],\n",
    "    'Nino3': [[210//2, 270//2], [-5//2+45, 5//2+45]],\n",
    "    'Nino3.4': [[190//2, 240//2], [-5//2+45, 5//2+45]],\n",
    "    'Nino 4': [[160//2, 210//2], [-5//2+45, 5//2+45]],\n",
    "    'North Atlantic': [[300//2, 350//2], [30//2+45, 45//2+45]],\n",
    "    'North Pacific 1': [[140//2, 180//2], [30//2+45, 65//2+45]],\n",
    "    'North Pacific 2': [[200//2, 240//2], [30//2+45, 65//2+45]],\n",
    "    'South China Sea': [[110//2, 120//2], [5//2+45, 15//2+45]],\n",
    "    'Southern Indian Ocean': [[40//2, 100//2], [-5//2+45, 15//2+45]],\n",
    "    'Western Indian Ocean': [[50//2, 65//2], [-5//2+45, 10//2+45]],\n",
    "    }\n",
    "\n",
    "    masked_data = []\n",
    "\n",
    "    for j in range(12):\n",
    "        masked_data.append(np.full_like(data, fill_value=None))\n",
    "\n",
    "    i=0\n",
    "    for name, coords in regions.items():\n",
    "        x1, x2 = coords[0]\n",
    "        y1, y2 = coords[1]\n",
    "        masked_data[i][y1:y2, x1:x2] = data[y1:y2, x1:x2]\n",
    "        i+=1\n",
    "    \n",
    "    return masked_data\n",
    "    "
   ]
  },
  {
   "cell_type": "code",
   "execution_count": 34,
   "id": "5564a79c",
   "metadata": {},
   "outputs": [],
   "source": [
    "region1_monthly_ssta_data=[]\n",
    "region2_monthly_ssta_data=[]\n",
    "region3_monthly_ssta_data=[]\n",
    "region4_monthly_ssta_data=[]\n",
    "region5_monthly_ssta_data=[]\n",
    "region6_monthly_ssta_data=[]\n",
    "region7_monthly_ssta_data=[]\n",
    "region8_monthly_ssta_data=[]\n",
    "region9_monthly_ssta_data=[]\n",
    "region10_monthly_ssta_data=[]\n",
    "region11_monthly_ssta_data=[]\n",
    "region12_monthly_ssta_data=[]\n",
    "\n",
    "for i in range(len(all_data)):\n",
    "    all_regional_data=getRegionalData(all_data[i]['ssta'][0][0])\n",
    "    region1_monthly_ssta_data.append(all_regional_data[0])\n",
    "    region2_monthly_ssta_data.append(all_regional_data[1])\n",
    "    region3_monthly_ssta_data.append(all_regional_data[2])\n",
    "    region4_monthly_ssta_data.append(all_regional_data[3])\n",
    "    region5_monthly_ssta_data.append(all_regional_data[4])\n",
    "    region6_monthly_ssta_data.append(all_regional_data[5])\n",
    "    region7_monthly_ssta_data.append(all_regional_data[6])\n",
    "    region8_monthly_ssta_data.append(all_regional_data[7])\n",
    "    region9_monthly_ssta_data.append(all_regional_data[8])\n",
    "    region10_monthly_ssta_data.append(all_regional_data[9])\n",
    "    region11_monthly_ssta_data.append(all_regional_data[10])\n",
    "    region12_monthly_ssta_data.append(all_regional_data[11])\n",
    "\n",
    "\n"
   ]
  },
  {
   "cell_type": "code",
   "execution_count": 46,
   "id": "d961cd4b",
   "metadata": {},
   "outputs": [
    {
     "data": {
      "text/plain": [
       "366"
      ]
     },
     "execution_count": 46,
     "metadata": {},
     "output_type": "execute_result"
    }
   ],
   "source": []
  },
  {
   "cell_type": "code",
   "execution_count": 61,
   "id": "bbffd5de",
   "metadata": {},
   "outputs": [],
   "source": [
    "region1_yearly_ssta_data=[]\n",
    "region2_yearly_ssta_data=[]\n",
    "region3_yearly_ssta_data=[]\n",
    "region4_yearly_ssta_data=[]\n",
    "region5_yearly_ssta_data=[]\n",
    "region6_yearly_ssta_data=[]\n",
    "region7_yearly_ssta_data=[]\n",
    "region8_yearly_ssta_data=[]\n",
    "region9_yearly_ssta_data=[]\n",
    "region10_yearly_ssta_data=[]\n",
    "region11_yearly_ssta_data=[]\n",
    "region12_yearly_ssta_data=[]\n",
    "\n",
    "for i in range(0,len(all_data),3):\n",
    "    \n",
    "    yearly_combined_region1 = np.stack(region1_monthly_ssta_data[i:i+3], axis=0)\n",
    "    yearly_combined_region2 = np.stack(region2_monthly_ssta_data[i:i+3], axis=0)\n",
    "    yearly_combined_region3 = np.stack(region3_monthly_ssta_data[i:i+3], axis=0)\n",
    "    yearly_combined_region4 = np.stack(region4_monthly_ssta_data[i:i+3], axis=0)\n",
    "    yearly_combined_region5 = np.stack(region5_monthly_ssta_data[i:i+3], axis=0)\n",
    "    yearly_combined_region6 = np.stack(region6_monthly_ssta_data[i:i+3], axis=0)\n",
    "    yearly_combined_region7 = np.stack(region7_monthly_ssta_data[i:i+3], axis=0)\n",
    "    yearly_combined_region8 = np.stack(region8_monthly_ssta_data[i:i+3], axis=0)\n",
    "    yearly_combined_region9 = np.stack(region9_monthly_ssta_data[i:i+3], axis=0)\n",
    "    yearly_combined_region10 = np.stack(region10_monthly_ssta_data[i:i+3], axis=0)\n",
    "    yearly_combined_region11 = np.stack(region11_monthly_ssta_data[i:i+3], axis=0)\n",
    "    yearly_combined_region12 = np.stack(region12_monthly_ssta_data[i:i+3], axis=0)\n",
    "\n",
    "    region1_yearly_ssta_data.append(np.mean(yearly_combined_region1, axis=0))\n",
    "    region2_yearly_ssta_data.append(np.mean(yearly_combined_region2, axis=0))\n",
    "    region3_yearly_ssta_data.append(np.mean(yearly_combined_region3, axis=0))\n",
    "    region4_yearly_ssta_data.append(np.mean(yearly_combined_region4, axis=0))\n",
    "    region5_yearly_ssta_data.append(np.mean(yearly_combined_region5, axis=0))\n",
    "    region6_yearly_ssta_data.append(np.mean(yearly_combined_region6, axis=0))\n",
    "    region7_yearly_ssta_data.append(np.mean(yearly_combined_region7, axis=0))\n",
    "    region8_yearly_ssta_data.append(np.mean(yearly_combined_region8, axis=0))\n",
    "    region9_yearly_ssta_data.append(np.mean(yearly_combined_region9, axis=0))\n",
    "    region10_yearly_ssta_data.append(np.mean(yearly_combined_region10, axis=0))\n",
    "    region11_yearly_ssta_data.append(np.mean(yearly_combined_region11, axis=0))\n",
    "    region12_yearly_ssta_data.append(np.mean(yearly_combined_region12, axis=0))   \n",
    "    "
   ]
  },
  {
   "cell_type": "code",
   "execution_count": 73,
   "id": "083588d0",
   "metadata": {},
   "outputs": [
    {
     "name": "stdout",
     "output_type": "stream",
     "text": [
      "2023\n"
     ]
    }
   ],
   "source": [
    "year=1901\n",
    "for i in range(len(region1_yearly_ssta_data)):\n",
    "    np.save(fr\"C:\\Users\\ratho\\Desktop\\Software Group Project - III\\Climate Data Modelling\\Our Work\\Codes\\Region 1\\ssta_{year}\",region1_yearly_ssta_data[i])\n",
    "    np.save(fr\"C:\\Users\\ratho\\Desktop\\Software Group Project - III\\Climate Data Modelling\\Our Work\\Codes\\Region 2\\ssta_{year}\",region2_yearly_ssta_data[i])\n",
    "    np.save(fr\"C:\\Users\\ratho\\Desktop\\Software Group Project - III\\Climate Data Modelling\\Our Work\\Codes\\Region 3\\ssta_{year}\",region3_yearly_ssta_data[i])\n",
    "    np.save(fr\"C:\\Users\\ratho\\Desktop\\Software Group Project - III\\Climate Data Modelling\\Our Work\\Codes\\Region 4\\ssta_{year}\",region4_yearly_ssta_data[i])\n",
    "    np.save(fr\"C:\\Users\\ratho\\Desktop\\Software Group Project - III\\Climate Data Modelling\\Our Work\\Codes\\Region 5\\ssta_{year}\",region5_yearly_ssta_data[i])\n",
    "    np.save(fr\"C:\\Users\\ratho\\Desktop\\Software Group Project - III\\Climate Data Modelling\\Our Work\\Codes\\Region 6\\ssta_{year}\",region6_yearly_ssta_data[i])\n",
    "    np.save(fr\"C:\\Users\\ratho\\Desktop\\Software Group Project - III\\Climate Data Modelling\\Our Work\\Codes\\Region 7\\ssta_{year}\",region7_yearly_ssta_data[i])\n",
    "    np.save(fr\"C:\\Users\\ratho\\Desktop\\Software Group Project - III\\Climate Data Modelling\\Our Work\\Codes\\Region 8\\ssta_{year}\",region8_yearly_ssta_data[i])\n",
    "    np.save(fr\"C:\\Users\\ratho\\Desktop\\Software Group Project - III\\Climate Data Modelling\\Our Work\\Codes\\Region 9\\ssta_{year}\",region9_yearly_ssta_data[i])\n",
    "    np.save(fr\"C:\\Users\\ratho\\Desktop\\Software Group Project - III\\Climate Data Modelling\\Our Work\\Codes\\Region 10\\ssta_{year}\",region10_yearly_ssta_data[i])\n",
    "    np.save(fr\"C:\\Users\\ratho\\Desktop\\Software Group Project - III\\Climate Data Modelling\\Our Work\\Codes\\Region 11\\ssta_{year}\",region11_yearly_ssta_data[i])\n",
    "    np.save(fr\"C:\\Users\\ratho\\Desktop\\Software Group Project - III\\Climate Data Modelling\\Our Work\\Codes\\Region 12\\ssta_{year}\",region12_yearly_ssta_data[i])\n",
    "    year+=1\n",
    "\n",
    "print(year)"
   ]
  }
 ],
 "metadata": {
  "kernelspec": {
   "display_name": "Python 3 (ipykernel)",
   "language": "python",
   "name": "python3"
  },
  "language_info": {
   "codemirror_mode": {
    "name": "ipython",
    "version": 3
   },
   "file_extension": ".py",
   "mimetype": "text/x-python",
   "name": "python",
   "nbconvert_exporter": "python",
   "pygments_lexer": "ipython3",
   "version": "3.10.9"
  }
 },
 "nbformat": 4,
 "nbformat_minor": 5
}
