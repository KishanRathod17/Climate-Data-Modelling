{
 "cells": [
  {
   "cell_type": "code",
   "execution_count": 1,
   "id": "961c3906",
   "metadata": {},
   "outputs": [],
   "source": [
    "import xarray \n",
    "import os\n",
    "import netCDF4\n",
    "import numpy as np\n",
    "import matplotlib.pyplot as plt\n",
    "import imdlib as imd\n",
    "import pandas as pd\n",
    "from sklearn.cluster import KMeans\n",
    "from sklearn.metrics import silhouette_score\n",
    "import scipy.io\n",
    "import matplotlib.image as mpimg\n",
    "from sklearn.tree import DecisionTreeClassifier\n",
    "from sklearn.model_selection import GridSearchCV\n",
    "from sklearn.metrics import accuracy_score"
   ]
  },
  {
   "cell_type": "code",
   "execution_count": 2,
   "id": "cdde5f6c",
   "metadata": {},
   "outputs": [],
   "source": [
    "x1 = pd.read_csv(r\"C:\\Users\\ratho\\Desktop\\Climate Data Modelling\\Our Work\\CSV Excel Data\\SSTA Category 1901-2010.csv\",index_col=0)\n",
    "y1 = pd.read_csv(r\"C:\\Users\\ratho\\Desktop\\Climate Data Modelling\\Our Work\\CSV Excel Data\\Rainfall Cluster Number 1901-2010.csv\",index_col=0)\n",
    "x2 = pd.read_csv(r\"C:\\Users\\ratho\\Desktop\\Climate Data Modelling\\Our Work\\CSV Excel Data\\SSTA Category 2011-2022.csv\",index_col=0)\n",
    "y2 = pd.read_csv(r\"C:\\Users\\ratho\\Desktop\\Climate Data Modelling\\Our Work\\CSV Excel Data\\Rainfall Cluster Number 2011-2022.csv\",index_col=0)"
   ]
  },
  {
   "cell_type": "code",
   "execution_count": 3,
   "id": "a8f2f857",
   "metadata": {},
   "outputs": [],
   "source": [
    "x=pd.concat([x1,x2])\n",
    "x=x.set_index(i for i in range(122))\n",
    "y=pd.concat([y1,y2])\n",
    "y=y.set_index(i for i in range(122))\n"
   ]
  },
  {
   "cell_type": "code",
   "execution_count": 4,
   "id": "31f8540c",
   "metadata": {},
   "outputs": [],
   "source": [
    "from sklearn.model_selection import train_test_split\n",
    "x_train,x_test,y_train,y_test=train_test_split(x,y,test_size=0.1,random_state=42)"
   ]
  },
  {
   "cell_type": "code",
   "execution_count": 5,
   "id": "bdf42367",
   "metadata": {},
   "outputs": [],
   "source": [
    "from sklearn import svm\n",
    "from sklearn.ensemble import RandomForestClassifier\n",
    "from sklearn.linear_model import LogisticRegression\n",
    "from sklearn.naive_bayes import GaussianNB\n",
    "from sklearn.naive_bayes import MultinomialNB\n",
    "from sklearn.tree import DecisionTreeClassifier\n",
    "from sklearn.linear_model import LinearRegression\n",
    "from sklearn.discriminant_analysis import LinearDiscriminantAnalysis\n"
   ]
  },
  {
   "cell_type": "code",
   "execution_count": 6,
   "id": "f70b0a7b",
   "metadata": {},
   "outputs": [],
   "source": [
    "model_params = {\n",
    "    'svm': {\n",
    "        'model': svm.SVC(random_state=42),\n",
    "        'params': {\n",
    "            'C': [1, 10, 20],\n",
    "            'kernel': ['rbf', 'linear'],\n",
    "            'degree': [2, 3, 4],\n",
    "            'coef0': [0.0, 0.1, 0.5],\n",
    "            'probability': [True, False],\n",
    "        }\n",
    "    },\n",
    "    'random_forest': {\n",
    "        'model': RandomForestClassifier(random_state=42),\n",
    "        'params': {\n",
    "            'n_estimators': [1, 5, 10, 20, 50],\n",
    "            'criterion': ['gini', 'entropy'],\n",
    "            'max_depth': [None, 10, 20, 30],\n",
    "            'min_samples_split': [2, 5, 10],\n",
    "            'min_samples_leaf': [1, 2, 4],\n",
    "        }\n",
    "    },\n",
    "    'logistic_regression': {\n",
    "        'model': LogisticRegression(solver='liblinear',random_state=42,max_iter=2000),\n",
    "        'params': {\n",
    "            'C': [1, 5, 10],\n",
    "            'penalty': ['l1', 'l2'],\n",
    "        }\n",
    "    },\n",
    "    'naive_bayes_gaussian': {\n",
    "        'model': GaussianNB(),\n",
    "        'params': {}\n",
    "    },\n",
    "    'naive_bayes_multinomial': {\n",
    "        'model': MultinomialNB(),\n",
    "        'params': {\n",
    "            'alpha': [0.1, 0.5, 1.0, 2.0],\n",
    "        }\n",
    "    },\n",
    "    'decision_tree': {\n",
    "        'model': DecisionTreeClassifier(random_state=42),\n",
    "        'params': {\n",
    "            'criterion': ['gini', 'entropy'],\n",
    "            'max_depth': [None, 10, 20, 30],\n",
    "            'min_samples_split': [2, 5, 10],\n",
    "            'min_samples_leaf': [1, 2, 4],\n",
    "        }\n",
    "    },\n",
    "    'linear_discriminant_analysis': {\n",
    "        'model': LinearDiscriminantAnalysis(),\n",
    "        'params' : {\n",
    "\n",
    "        }\n",
    "    },\n",
    "}\n",
    "\n"
   ]
  },
  {
   "cell_type": "code",
   "execution_count": 7,
   "id": "197ed27f",
   "metadata": {},
   "outputs": [
    {
     "data": {
      "text/plain": [
       "array([4, 8, 3, 8, 3, 3, 2, 3, 8, 3, 2, 7, 3, 8, 0, 3, 1, 3, 0, 8, 3, 6,\n",
       "       3, 6, 3, 3, 6, 4, 3, 8, 7, 3, 3, 4, 1, 6, 0, 3, 3, 7, 0, 2, 1, 6,\n",
       "       8, 8, 6, 2, 4, 3, 6, 4, 6, 8, 3, 2, 5, 5, 2, 3, 3, 6, 3, 3, 3, 2,\n",
       "       2, 4, 0, 1, 0, 7, 4, 3, 0, 3, 3, 3, 3, 8, 8, 1, 3, 4, 5, 4, 3, 6,\n",
       "       6, 7, 7, 4, 4, 6, 4, 0, 0, 0, 5, 0, 8, 3, 0, 5, 4, 2, 3, 1, 8],\n",
       "      dtype=int64)"
      ]
     },
     "execution_count": 7,
     "metadata": {},
     "output_type": "execute_result"
    }
   ],
   "source": [
    "y_train_array=y_train.values.ravel()\n",
    "y_train_array"
   ]
  },
  {
   "cell_type": "code",
   "execution_count": 8,
   "id": "b8b4dc85",
   "metadata": {},
   "outputs": [
    {
     "data": {
      "text/html": [
       "<div>\n",
       "<style scoped>\n",
       "    .dataframe tbody tr th:only-of-type {\n",
       "        vertical-align: middle;\n",
       "    }\n",
       "\n",
       "    .dataframe tbody tr th {\n",
       "        vertical-align: top;\n",
       "    }\n",
       "\n",
       "    .dataframe thead th {\n",
       "        text-align: right;\n",
       "    }\n",
       "</style>\n",
       "<table border=\"1\" class=\"dataframe\">\n",
       "  <thead>\n",
       "    <tr style=\"text-align: right;\">\n",
       "      <th></th>\n",
       "      <th>model</th>\n",
       "      <th>best_score</th>\n",
       "      <th>accuracy_score</th>\n",
       "      <th>best_params</th>\n",
       "    </tr>\n",
       "  </thead>\n",
       "  <tbody>\n",
       "    <tr>\n",
       "      <th>0</th>\n",
       "      <td>svm</td>\n",
       "      <td>0.293506</td>\n",
       "      <td>0.461538</td>\n",
       "      <td>{'C': 1, 'coef0': 0.0, 'degree': 2, 'kernel': ...</td>\n",
       "    </tr>\n",
       "    <tr>\n",
       "      <th>1</th>\n",
       "      <td>random_forest</td>\n",
       "      <td>0.320779</td>\n",
       "      <td>0.230769</td>\n",
       "      <td>{'criterion': 'entropy', 'max_depth': None, 'm...</td>\n",
       "    </tr>\n",
       "    <tr>\n",
       "      <th>2</th>\n",
       "      <td>logistic_regression</td>\n",
       "      <td>0.266234</td>\n",
       "      <td>0.384615</td>\n",
       "      <td>{'C': 1, 'penalty': 'l1'}</td>\n",
       "    </tr>\n",
       "    <tr>\n",
       "      <th>3</th>\n",
       "      <td>naive_bayes_gaussian</td>\n",
       "      <td>0.083550</td>\n",
       "      <td>0.153846</td>\n",
       "      <td>{}</td>\n",
       "    </tr>\n",
       "    <tr>\n",
       "      <th>4</th>\n",
       "      <td>naive_bayes_multinomial</td>\n",
       "      <td>0.312121</td>\n",
       "      <td>0.461538</td>\n",
       "      <td>{'alpha': 0.1}</td>\n",
       "    </tr>\n",
       "    <tr>\n",
       "      <th>5</th>\n",
       "      <td>decision_tree</td>\n",
       "      <td>0.238528</td>\n",
       "      <td>0.307692</td>\n",
       "      <td>{'criterion': 'entropy', 'max_depth': None, 'm...</td>\n",
       "    </tr>\n",
       "    <tr>\n",
       "      <th>6</th>\n",
       "      <td>linear_discriminant_analysis</td>\n",
       "      <td>0.229870</td>\n",
       "      <td>0.153846</td>\n",
       "      <td>{}</td>\n",
       "    </tr>\n",
       "  </tbody>\n",
       "</table>\n",
       "</div>"
      ],
      "text/plain": [
       "                          model  best_score  accuracy_score  \\\n",
       "0                           svm    0.293506        0.461538   \n",
       "1                 random_forest    0.320779        0.230769   \n",
       "2           logistic_regression    0.266234        0.384615   \n",
       "3          naive_bayes_gaussian    0.083550        0.153846   \n",
       "4       naive_bayes_multinomial    0.312121        0.461538   \n",
       "5                 decision_tree    0.238528        0.307692   \n",
       "6  linear_discriminant_analysis    0.229870        0.153846   \n",
       "\n",
       "                                         best_params  \n",
       "0  {'C': 1, 'coef0': 0.0, 'degree': 2, 'kernel': ...  \n",
       "1  {'criterion': 'entropy', 'max_depth': None, 'm...  \n",
       "2                          {'C': 1, 'penalty': 'l1'}  \n",
       "3                                                 {}  \n",
       "4                                     {'alpha': 0.1}  \n",
       "5  {'criterion': 'entropy', 'max_depth': None, 'm...  \n",
       "6                                                 {}  "
      ]
     },
     "execution_count": 8,
     "metadata": {},
     "output_type": "execute_result"
    }
   ],
   "source": [
    "from sklearn.model_selection import GridSearchCV\n",
    "import pandas as pd\n",
    "scores = []\n",
    "\n",
    "for model_name, mp in model_params.items():\n",
    "    clf =  GridSearchCV(mp['model'], mp['params'], cv=5, return_train_score=False)\n",
    "    clf.fit(x_train, y_train_array)\n",
    "    y_pred = clf.predict(x_test)\n",
    "    y_pred = np.ceil(y_pred)\n",
    "    y_test_array= y_test.values.ravel()\n",
    "    y_test_array\n",
    "    scores.append({\n",
    "        'model': model_name,\n",
    "        'best_score': clf.best_score_,\n",
    "        'accuracy_score': accuracy_score(y_pred,y_test_array),\n",
    "        'best_params': clf.best_params_,\n",
    "    })\n",
    "    \n",
    "df = pd.DataFrame(scores,columns=['model','best_score','accuracy_score','best_params'])\n",
    "df"
   ]
  },
  {
   "cell_type": "code",
   "execution_count": 9,
   "id": "f6991627",
   "metadata": {},
   "outputs": [],
   "source": [
    "df.to_csv(r\"C:\\Users\\ratho\\Desktop\\Software Group Project - III\\Climate Data Modelling\\Our Work\\Codes\\Main Codes\\Results\\Rainfall Clusters Train Test Split Results.csv\")"
   ]
  }
 ],
 "metadata": {
  "kernelspec": {
   "display_name": "Python 3 (ipykernel)",
   "language": "python",
   "name": "python3"
  },
  "language_info": {
   "codemirror_mode": {
    "name": "ipython",
    "version": 3
   },
   "file_extension": ".py",
   "mimetype": "text/x-python",
   "name": "python",
   "nbconvert_exporter": "python",
   "pygments_lexer": "ipython3",
   "version": "3.10.9"
  }
 },
 "nbformat": 4,
 "nbformat_minor": 5
}
