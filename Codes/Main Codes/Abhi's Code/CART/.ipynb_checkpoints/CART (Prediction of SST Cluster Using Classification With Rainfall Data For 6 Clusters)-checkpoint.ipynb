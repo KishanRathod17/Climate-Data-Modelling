{
 "cells": [
  {
   "cell_type": "code",
   "execution_count": 1,
   "id": "34316b6d",
   "metadata": {},
   "outputs": [],
   "source": [
    "import xarray \n",
    "import os\n",
    "import netCDF4\n",
    "import numpy as np\n",
    "import matplotlib.pyplot as plt\n",
    "import imdlib as imd\n",
    "import pandas as pd\n",
    "from sklearn.cluster import KMeans\n",
    "from sklearn.metrics import silhouette_score\n",
    "import scipy.io\n",
    "import matplotlib.image as mpimg\n",
    "from sklearn.tree import DecisionTreeClassifier\n",
    "from sklearn.model_selection import GridSearchCV\n",
    "from sklearn.metrics import accuracy_score\n"
   ]
  },
  {
   "cell_type": "code",
   "execution_count": 2,
   "id": "4330b2b3",
   "metadata": {},
   "outputs": [],
   "source": [
    "X_train = pd.read_csv(r\"C:\\Users\\HP\\Desktop\\COLLEGE WORK\\SEM 5\\Machine Learning\\Climate data modelling\\Clustering algorithms\\Rain Category 1901-2011.csv\",index_col=0)\n",
    "y_train = pd.read_csv(r\"C:\\Users\\HP\\Desktop\\COLLEGE WORK\\SEM 5\\Machine Learning\\Climate data modelling\\Clustering algorithms\\SST Cluster Number 1901-2010 with 6 clusters.csv\",index_col=0)\n",
    "X_test = pd.read_csv(r\"C:\\Users\\HP\\Desktop\\COLLEGE WORK\\SEM 5\\Machine Learning\\Climate data modelling\\Clustering algorithms\\Rain Category 2011-2023.csv\",index_col=0)\n",
    "y_test = pd.read_csv(r\"C:\\Users\\HP\\Desktop\\COLLEGE WORK\\SEM 5\\Machine Learning\\Climate data modelling\\Clustering algorithms\\SST Cluster Number 2011-2022 with 6 clusters.csv\",index_col=0)"
   ]
  },
  {
   "cell_type": "code",
   "execution_count": 3,
   "id": "5231488b",
   "metadata": {},
   "outputs": [
    {
     "data": {
      "text/plain": [
       "((110, 6), (110, 1), (12, 6), (12, 1))"
      ]
     },
     "execution_count": 3,
     "metadata": {},
     "output_type": "execute_result"
    }
   ],
   "source": [
    "X_train.shape, y_train.shape, X_test.shape, y_test.shape"
   ]
  },
  {
   "cell_type": "code",
   "execution_count": 4,
   "id": "bed4fade",
   "metadata": {},
   "outputs": [
    {
     "data": {
      "text/plain": [
       "array([2, 2, 2, 4, 2, 2, 4, 4, 4, 4, 4, 2, 4, 2, 1, 4, 4, 4, 1, 0, 4, 2,\n",
       "       2, 2, 4, 0, 4, 2, 2, 2, 1, 2, 4, 4, 4, 2, 5, 4, 2, 1, 3, 1, 4, 0,\n",
       "       5, 1, 0, 2, 4, 4, 2, 1, 1, 1, 4, 4, 1, 1, 0, 1, 0, 0, 0, 0, 2, 1,\n",
       "       0, 4, 3, 3, 0, 0, 3, 0, 4, 4, 0, 1, 3, 3, 1, 3, 3, 5, 5, 0, 3, 3,\n",
       "       5, 3, 3, 3, 3, 3, 3, 0, 3, 3, 5, 5, 3, 3, 3, 3, 3, 3, 3, 5, 3, 3],\n",
       "      dtype=int64)"
      ]
     },
     "execution_count": 4,
     "metadata": {},
     "output_type": "execute_result"
    }
   ],
   "source": [
    "y_train_array=y_train.values.ravel()\n",
    "y_train_array"
   ]
  },
  {
   "cell_type": "code",
   "execution_count": null,
   "id": "8d522d25",
   "metadata": {},
   "outputs": [],
   "source": []
  },
  {
   "cell_type": "markdown",
   "id": "7e05abc7",
   "metadata": {},
   "source": [
    "# Using hyper perameter for classification"
   ]
  },
  {
   "cell_type": "code",
   "execution_count": 5,
   "id": "39c6adc6",
   "metadata": {},
   "outputs": [],
   "source": [
    "from sklearn import svm\n",
    "from sklearn.ensemble import RandomForestClassifier\n",
    "from sklearn.linear_model import LogisticRegression\n",
    "from sklearn.naive_bayes import GaussianNB\n",
    "from sklearn.naive_bayes import MultinomialNB\n",
    "from sklearn.tree import DecisionTreeClassifier\n",
    "from sklearn.linear_model import LinearRegression\n",
    "from sklearn.discriminant_analysis import LinearDiscriminantAnalysis"
   ]
  },
  {
   "cell_type": "code",
   "execution_count": 6,
   "id": "5652e4dc",
   "metadata": {},
   "outputs": [],
   "source": [
    "model_params = {\n",
    "    'svm': {\n",
    "        'model': svm.SVC(decision_function_shape='ovo',gamma='auto'),\n",
    "        'params' : {\n",
    "            'C': [1,10,20],\n",
    "            'kernel': ['rbf','linear']\n",
    "        }  \n",
    "    },\n",
    "    'random_forest': {\n",
    "        'model': RandomForestClassifier(),\n",
    "        'params' : {\n",
    "            'n_estimators': [1,5,10]\n",
    "        }\n",
    "    },\n",
    "    'logistic_regression' : {\n",
    "        'model': LogisticRegression(solver='liblinear',multi_class='auto'),\n",
    "        'params': {\n",
    "            'C': [1,5,10]\n",
    "        }\n",
    "    },\n",
    "    'naive_bayes_gaussian': {\n",
    "        'model': GaussianNB(),\n",
    "        'params': {}\n",
    "    },\n",
    "    'naive_bayes_multinomial': {\n",
    "        'model': MultinomialNB(),\n",
    "        'params': {}\n",
    "    },\n",
    "    'decision_tree': {\n",
    "        'model': DecisionTreeClassifier(random_state=42),\n",
    "        'params': {\n",
    "            'criterion': ['gini','entropy'],\n",
    "            \n",
    "        }\n",
    "    },'linear_regression': {\n",
    "        'model': LinearRegression(),\n",
    "        'params': {}\n",
    "    \n",
    "    },\n",
    "    'linear_discriminant_analysis': {\n",
    "        'model': LinearDiscriminantAnalysis(),\n",
    "        'params': {}\n",
    "    \n",
    "    },\n",
    "}"
   ]
  },
  {
   "cell_type": "code",
   "execution_count": 7,
   "id": "8d60b2cb",
   "metadata": {
    "scrolled": true
   },
   "outputs": [
    {
     "data": {
      "text/html": [
       "<div>\n",
       "<style scoped>\n",
       "    .dataframe tbody tr th:only-of-type {\n",
       "        vertical-align: middle;\n",
       "    }\n",
       "\n",
       "    .dataframe tbody tr th {\n",
       "        vertical-align: top;\n",
       "    }\n",
       "\n",
       "    .dataframe thead th {\n",
       "        text-align: right;\n",
       "    }\n",
       "</style>\n",
       "<table border=\"1\" class=\"dataframe\">\n",
       "  <thead>\n",
       "    <tr style=\"text-align: right;\">\n",
       "      <th></th>\n",
       "      <th>model</th>\n",
       "      <th>best_score</th>\n",
       "      <th>accuracy_score</th>\n",
       "      <th>best_params</th>\n",
       "    </tr>\n",
       "  </thead>\n",
       "  <tbody>\n",
       "    <tr>\n",
       "      <th>0</th>\n",
       "      <td>svm</td>\n",
       "      <td>0.318182</td>\n",
       "      <td>0.500000</td>\n",
       "      <td>{'C': 1, 'kernel': 'rbf'}</td>\n",
       "    </tr>\n",
       "    <tr>\n",
       "      <th>1</th>\n",
       "      <td>random_forest</td>\n",
       "      <td>0.345455</td>\n",
       "      <td>0.333333</td>\n",
       "      <td>{'n_estimators': 10}</td>\n",
       "    </tr>\n",
       "    <tr>\n",
       "      <th>2</th>\n",
       "      <td>logistic_regression</td>\n",
       "      <td>0.236364</td>\n",
       "      <td>0.583333</td>\n",
       "      <td>{'C': 1}</td>\n",
       "    </tr>\n",
       "    <tr>\n",
       "      <th>3</th>\n",
       "      <td>naive_bayes_gaussian</td>\n",
       "      <td>0.218182</td>\n",
       "      <td>0.166667</td>\n",
       "      <td>{}</td>\n",
       "    </tr>\n",
       "    <tr>\n",
       "      <th>4</th>\n",
       "      <td>naive_bayes_multinomial</td>\n",
       "      <td>0.245455</td>\n",
       "      <td>0.750000</td>\n",
       "      <td>{}</td>\n",
       "    </tr>\n",
       "    <tr>\n",
       "      <th>5</th>\n",
       "      <td>decision_tree</td>\n",
       "      <td>0.327273</td>\n",
       "      <td>0.250000</td>\n",
       "      <td>{'criterion': 'gini'}</td>\n",
       "    </tr>\n",
       "    <tr>\n",
       "      <th>6</th>\n",
       "      <td>linear_regression</td>\n",
       "      <td>-0.398829</td>\n",
       "      <td>0.666667</td>\n",
       "      <td>{}</td>\n",
       "    </tr>\n",
       "    <tr>\n",
       "      <th>7</th>\n",
       "      <td>linear_discriminant_analysis</td>\n",
       "      <td>0.236364</td>\n",
       "      <td>0.583333</td>\n",
       "      <td>{}</td>\n",
       "    </tr>\n",
       "  </tbody>\n",
       "</table>\n",
       "</div>"
      ],
      "text/plain": [
       "                          model  best_score  accuracy_score  \\\n",
       "0                           svm    0.318182        0.500000   \n",
       "1                 random_forest    0.345455        0.333333   \n",
       "2           logistic_regression    0.236364        0.583333   \n",
       "3          naive_bayes_gaussian    0.218182        0.166667   \n",
       "4       naive_bayes_multinomial    0.245455        0.750000   \n",
       "5                 decision_tree    0.327273        0.250000   \n",
       "6             linear_regression   -0.398829        0.666667   \n",
       "7  linear_discriminant_analysis    0.236364        0.583333   \n",
       "\n",
       "                 best_params  \n",
       "0  {'C': 1, 'kernel': 'rbf'}  \n",
       "1       {'n_estimators': 10}  \n",
       "2                   {'C': 1}  \n",
       "3                         {}  \n",
       "4                         {}  \n",
       "5      {'criterion': 'gini'}  \n",
       "6                         {}  \n",
       "7                         {}  "
      ]
     },
     "execution_count": 7,
     "metadata": {},
     "output_type": "execute_result"
    }
   ],
   "source": [
    "from sklearn.model_selection import GridSearchCV\n",
    "import pandas as pd\n",
    "scores = []\n",
    "\n",
    "for model_name, mp in model_params.items():\n",
    "    clf =  GridSearchCV(mp['model'], mp['params'], cv=5, return_train_score=False)\n",
    "    clf.fit(X_train, y_train_array)\n",
    "    y_pred = clf.predict(X_test)\n",
    "    y_pred = np.ceil(y_pred)\n",
    "    y_test_array= y_test.values.ravel()\n",
    "    y_test_array\n",
    "    scores.append({\n",
    "        'model': model_name,\n",
    "        'best_score': clf.best_score_,\n",
    "        'accuracy_score': accuracy_score(y_pred,y_test_array),\n",
    "        'best_params': clf.best_params_,\n",
    "    })\n",
    "    \n",
    "df = pd.DataFrame(scores,columns=['model','best_score','accuracy_score','best_params'])\n",
    "df"
   ]
  },
  {
   "cell_type": "code",
   "execution_count": null,
   "id": "9016a24e",
   "metadata": {},
   "outputs": [],
   "source": []
  }
 ],
 "metadata": {
  "kernelspec": {
   "display_name": "Python 3 (ipykernel)",
   "language": "python",
   "name": "python3"
  },
  "language_info": {
   "codemirror_mode": {
    "name": "ipython",
    "version": 3
   },
   "file_extension": ".py",
   "mimetype": "text/x-python",
   "name": "python",
   "nbconvert_exporter": "python",
   "pygments_lexer": "ipython3",
   "version": "3.10.9"
  }
 },
 "nbformat": 4,
 "nbformat_minor": 5
}
