{
 "cells": [
  {
   "cell_type": "code",
   "execution_count": 1,
   "id": "dc4a317e",
   "metadata": {},
   "outputs": [],
   "source": [
    "import xarray \n",
    "import os\n",
    "import netCDF4\n",
    "import numpy as np\n",
    "import matplotlib.pyplot as plt\n",
    "import imdlib as imd\n",
    "import pandas as pd\n",
    "from sklearn.cluster import KMeans\n",
    "from sklearn.metrics import silhouette_score\n",
    "import scipy.io\n",
    "import matplotlib.image as mpimg\n",
    "from sklearn.tree import DecisionTreeClassifier\n",
    "from sklearn.model_selection import GridSearchCV\n",
    "from sklearn.metrics import accuracy_score"
   ]
  },
  {
   "cell_type": "code",
   "execution_count": 2,
   "id": "e0cf1aa5",
   "metadata": {},
   "outputs": [],
   "source": [
    "x_train = pd.read_csv(r\"C:\\Users\\HP\\Desktop\\COLLEGE WORK\\SEM 5\\Machine Learning\\Climate data modelling\\Clustering algorithms\\SSTA Category 1901-2010.csv\",index_col=0)\n",
    "y_train = pd.read_csv(r\"C:\\Users\\HP\\Desktop\\COLLEGE WORK\\SEM 5\\Machine Learning\\Climate data modelling\\Clustering algorithms\\Cluster Number 1901-2010.csv\",index_col=0)\n",
    "x_test = pd.read_csv(r\"C:\\Users\\HP\\Desktop\\COLLEGE WORK\\SEM 5\\Machine Learning\\Climate data modelling\\Clustering algorithms\\SSTA Category 2011-2022.csv\",index_col=0)\n",
    "y_test = pd.read_csv(r\"C:\\Users\\HP\\Desktop\\COLLEGE WORK\\SEM 5\\Machine Learning\\Climate data modelling\\Clustering algorithms\\Cluster Number 2011-2022.csv\",index_col=0)"
   ]
  },
  {
   "cell_type": "code",
   "execution_count": 5,
   "id": "4dbadc2c",
   "metadata": {},
   "outputs": [
    {
     "data": {
      "text/plain": [
       "DecisionTreeClassifier(random_state=42)"
      ]
     },
     "execution_count": 5,
     "metadata": {},
     "output_type": "execute_result"
    }
   ],
   "source": [
    "from sklearn import tree\n",
    "model = tree.DecisionTreeClassifier(random_state=42)\n",
    "model.fit(x_train,y_train)"
   ]
  },
  {
   "cell_type": "code",
   "execution_count": 6,
   "id": "5fd42ab4",
   "metadata": {},
   "outputs": [
    {
     "data": {
      "text/plain": [
       "array([4, 6, 8, 3, 3, 3, 3, 3, 3, 3, 3, 6], dtype=int64)"
      ]
     },
     "execution_count": 6,
     "metadata": {},
     "output_type": "execute_result"
    }
   ],
   "source": [
    "y_pred = model.predict(x_test)\n",
    "y_pred"
   ]
  },
  {
   "cell_type": "code",
   "execution_count": 7,
   "id": "c9634f22",
   "metadata": {},
   "outputs": [
    {
     "data": {
      "text/plain": [
       "array([0, 4, 0, 6, 1, 3, 6, 3, 0, 4, 3, 8], dtype=int64)"
      ]
     },
     "execution_count": 7,
     "metadata": {},
     "output_type": "execute_result"
    }
   ],
   "source": [
    "y_array=y_test.values.ravel()\n",
    "y_array"
   ]
  },
  {
   "cell_type": "code",
   "execution_count": 8,
   "id": "ff04f5d8",
   "metadata": {},
   "outputs": [
    {
     "data": {
      "text/plain": [
       "0.25"
      ]
     },
     "execution_count": 8,
     "metadata": {},
     "output_type": "execute_result"
    }
   ],
   "source": [
    "accuracy_score(y_pred,y_array)"
   ]
  },
  {
   "cell_type": "code",
   "execution_count": 3,
   "id": "5c914cdf",
   "metadata": {},
   "outputs": [],
   "source": [
    "from sklearn import svm\n",
    "from sklearn.ensemble import RandomForestClassifier\n",
    "from sklearn.linear_model import LogisticRegression\n",
    "from sklearn.naive_bayes import GaussianNB\n",
    "from sklearn.naive_bayes import MultinomialNB\n",
    "from sklearn.tree import DecisionTreeClassifier\n",
    "from sklearn.linear_model import LinearRegression\n",
    "from sklearn.discriminant_analysis import LinearDiscriminantAnalysis"
   ]
  },
  {
   "cell_type": "code",
   "execution_count": 4,
   "id": "4429e6c3",
   "metadata": {},
   "outputs": [],
   "source": [
    "model_params = {\n",
    "    'svm': {\n",
    "        'model': svm.SVC(decision_function_shape='ovo',gamma='auto'),\n",
    "        'params' : {\n",
    "            'C': [1,10,20],\n",
    "            'kernel': ['rbf','linear']\n",
    "        }  \n",
    "    },\n",
    "    'random_forest': {\n",
    "        'model': RandomForestClassifier(),\n",
    "        'params' : {\n",
    "            'n_estimators': [1,5,10]\n",
    "        }\n",
    "    },\n",
    "    'logistic_regression' : {\n",
    "        'model': LogisticRegression(solver='liblinear',multi_class='auto'),\n",
    "        'params': {\n",
    "            'C': [1,5,10]\n",
    "        }\n",
    "    },\n",
    "    'naive_bayes_gaussian': {\n",
    "        'model': GaussianNB(),\n",
    "        'params': {}\n",
    "    },\n",
    "    'naive_bayes_multinomial': {\n",
    "        'model': MultinomialNB(),\n",
    "        'params': {}\n",
    "    },\n",
    "    'decision_tree': {\n",
    "        'model': DecisionTreeClassifier(random_state=42),\n",
    "        'params': {\n",
    "            'criterion': ['gini','entropy'],\n",
    "            \n",
    "        }\n",
    "    },'linear_regression': {\n",
    "        'model': LinearRegression(),\n",
    "        'params': {}\n",
    "    \n",
    "    },\n",
    "    'linear_discriminant_analysis': {\n",
    "        'model': LinearDiscriminantAnalysis(),\n",
    "        'params': {}\n",
    "    \n",
    "    },\n",
    "}"
   ]
  },
  {
   "cell_type": "code",
   "execution_count": 5,
   "id": "82b25a75",
   "metadata": {},
   "outputs": [
    {
     "data": {
      "text/plain": [
       "array([2, 6, 4, 5, 1, 1, 3, 8, 8, 4, 2, 3, 3, 3, 2, 0, 0, 5, 3, 6, 3, 7,\n",
       "       3, 4, 7, 8, 3, 3, 3, 3, 3, 3, 8, 3, 1, 7, 3, 4, 2, 3, 1, 3, 3, 8,\n",
       "       8, 3, 4, 2, 3, 3, 2, 1, 7, 3, 3, 8, 3, 3, 0, 3, 0, 1, 3, 4, 6, 6,\n",
       "       3, 2, 2, 0, 7, 5, 8, 6, 0, 8, 8, 3, 6, 7, 4, 2, 0, 6, 6, 2, 5, 0,\n",
       "       3, 3, 4, 3, 3, 0, 3, 4, 3, 4, 2, 4, 1, 5, 8, 6, 3, 8, 4, 1, 6, 8],\n",
       "      dtype=int64)"
      ]
     },
     "execution_count": 5,
     "metadata": {},
     "output_type": "execute_result"
    }
   ],
   "source": [
    "y_train_array=y_train.values.ravel()\n",
    "y_train_array"
   ]
  },
  {
   "cell_type": "code",
   "execution_count": 6,
   "id": "44af46f2",
   "metadata": {},
   "outputs": [
    {
     "data": {
      "text/html": [
       "<div>\n",
       "<style scoped>\n",
       "    .dataframe tbody tr th:only-of-type {\n",
       "        vertical-align: middle;\n",
       "    }\n",
       "\n",
       "    .dataframe tbody tr th {\n",
       "        vertical-align: top;\n",
       "    }\n",
       "\n",
       "    .dataframe thead th {\n",
       "        text-align: right;\n",
       "    }\n",
       "</style>\n",
       "<table border=\"1\" class=\"dataframe\">\n",
       "  <thead>\n",
       "    <tr style=\"text-align: right;\">\n",
       "      <th></th>\n",
       "      <th>model</th>\n",
       "      <th>best_score</th>\n",
       "      <th>accuracy_score</th>\n",
       "      <th>best_params</th>\n",
       "    </tr>\n",
       "  </thead>\n",
       "  <tbody>\n",
       "    <tr>\n",
       "      <th>0</th>\n",
       "      <td>svm</td>\n",
       "      <td>0.300000</td>\n",
       "      <td>0.250000</td>\n",
       "      <td>{'C': 1, 'kernel': 'rbf'}</td>\n",
       "    </tr>\n",
       "    <tr>\n",
       "      <th>1</th>\n",
       "      <td>random_forest</td>\n",
       "      <td>0.245455</td>\n",
       "      <td>0.083333</td>\n",
       "      <td>{'n_estimators': 5}</td>\n",
       "    </tr>\n",
       "    <tr>\n",
       "      <th>2</th>\n",
       "      <td>logistic_regression</td>\n",
       "      <td>0.272727</td>\n",
       "      <td>0.250000</td>\n",
       "      <td>{'C': 1}</td>\n",
       "    </tr>\n",
       "    <tr>\n",
       "      <th>3</th>\n",
       "      <td>naive_bayes_gaussian</td>\n",
       "      <td>0.218182</td>\n",
       "      <td>0.166667</td>\n",
       "      <td>{}</td>\n",
       "    </tr>\n",
       "    <tr>\n",
       "      <th>4</th>\n",
       "      <td>naive_bayes_multinomial</td>\n",
       "      <td>0.318182</td>\n",
       "      <td>0.166667</td>\n",
       "      <td>{}</td>\n",
       "    </tr>\n",
       "    <tr>\n",
       "      <th>5</th>\n",
       "      <td>decision_tree</td>\n",
       "      <td>0.218182</td>\n",
       "      <td>0.333333</td>\n",
       "      <td>{'criterion': 'gini'}</td>\n",
       "    </tr>\n",
       "    <tr>\n",
       "      <th>6</th>\n",
       "      <td>linear_regression</td>\n",
       "      <td>-0.208417</td>\n",
       "      <td>0.166667</td>\n",
       "      <td>{}</td>\n",
       "    </tr>\n",
       "    <tr>\n",
       "      <th>7</th>\n",
       "      <td>linear_discriminant_analysis</td>\n",
       "      <td>0.236364</td>\n",
       "      <td>0.250000</td>\n",
       "      <td>{}</td>\n",
       "    </tr>\n",
       "  </tbody>\n",
       "</table>\n",
       "</div>"
      ],
      "text/plain": [
       "                          model  best_score  accuracy_score  \\\n",
       "0                           svm    0.300000        0.250000   \n",
       "1                 random_forest    0.245455        0.083333   \n",
       "2           logistic_regression    0.272727        0.250000   \n",
       "3          naive_bayes_gaussian    0.218182        0.166667   \n",
       "4       naive_bayes_multinomial    0.318182        0.166667   \n",
       "5                 decision_tree    0.218182        0.333333   \n",
       "6             linear_regression   -0.208417        0.166667   \n",
       "7  linear_discriminant_analysis    0.236364        0.250000   \n",
       "\n",
       "                 best_params  \n",
       "0  {'C': 1, 'kernel': 'rbf'}  \n",
       "1        {'n_estimators': 5}  \n",
       "2                   {'C': 1}  \n",
       "3                         {}  \n",
       "4                         {}  \n",
       "5      {'criterion': 'gini'}  \n",
       "6                         {}  \n",
       "7                         {}  "
      ]
     },
     "execution_count": 6,
     "metadata": {},
     "output_type": "execute_result"
    }
   ],
   "source": [
    "from sklearn.model_selection import GridSearchCV\n",
    "import pandas as pd\n",
    "scores = []\n",
    "\n",
    "for model_name, mp in model_params.items():\n",
    "    clf =  GridSearchCV(mp['model'], mp['params'], cv=5, return_train_score=False)\n",
    "    clf.fit(x_train, y_train_array)\n",
    "    y_pred = clf.predict(x_test)\n",
    "    y_pred = np.ceil(y_pred)\n",
    "    y_test_array= y_test.values.ravel()\n",
    "    y_test_array\n",
    "    scores.append({\n",
    "        'model': model_name,\n",
    "        'best_score': clf.best_score_,\n",
    "        'accuracy_score': accuracy_score(y_pred,y_test_array),\n",
    "        'best_params': clf.best_params_,\n",
    "    })\n",
    "    \n",
    "df = pd.DataFrame(scores,columns=['model','best_score','accuracy_score','best_params'])\n",
    "df"
   ]
  },
  {
   "cell_type": "code",
   "execution_count": null,
   "id": "07e51afa",
   "metadata": {},
   "outputs": [],
   "source": []
  }
 ],
 "metadata": {
  "kernelspec": {
   "display_name": "Python 3 (ipykernel)",
   "language": "python",
   "name": "python3"
  },
  "language_info": {
   "codemirror_mode": {
    "name": "ipython",
    "version": 3
   },
   "file_extension": ".py",
   "mimetype": "text/x-python",
   "name": "python",
   "nbconvert_exporter": "python",
   "pygments_lexer": "ipython3",
   "version": "3.10.9"
  }
 },
 "nbformat": 4,
 "nbformat_minor": 5
}
