{
 "cells": [
  {
   "cell_type": "code",
   "execution_count": null,
   "id": "7c3cd615",
   "metadata": {},
   "outputs": [],
   "source": [
    "#Importing all the required libraries\n",
    "import xarray \n",
    "import os\n",
    "import netCDF4\n",
    "import numpy as np\n",
    "import matplotlib.pyplot as plt\n",
    "import imdlib as imd\n",
    "import pandas as pd\n",
    "from sklearn.cluster import KMeans\n",
    "from sklearn.metrics import silhouette_score\n",
    "import scipy.io\n"
   ]
  },
  {
   "cell_type": "code",
   "execution_count": 5,
   "id": "084d4c3b",
   "metadata": {},
   "outputs": [],
   "source": [
    "R1=[1918, 1966, 1974, 1987, 2002]\n",
    "O6= [1904, 1918, 1972, 1987, 2002]\n",
    "\n",
    "R2=[1901, 1907, 1928, 1932, 1941, 1951, 1965, 1972, 1979, 1992, 2004, 2009]\n",
    "O7= [1902, 1920, 1965, 1966, 1974, 1979, 1984, 1985, 2004, 2009]\n",
    "\n",
    "R3=[1904, 1905, 1911, 1913, 1920, 1929, 1939, 1952, 1968, 1982, 1985, 1986, 1999]\n",
    "O3=[1901, 1911, 1915, 1939, 1948, 1951, 1968, 1969, 1982, 1986, 1999]\n",
    "\n",
    "R4=[1902, 1971, 1984, 1989, 1991, 1993, 1995, 1997, 1998]\n",
    "O2=[1905, 1906, 1935, 1941, 1952, 1962, 2001, 2008]\n",
    "\n",
    "R5=[1909, 1919, 1921, 1922, 1925, 1930, 1934, 1936, 1937, 1943, 1948, 1953, 1955, 1960, 1969, 1980, 2001, 2003, 2008]\n",
    "O8=[1922, 1925, 1936, 1953, 1971, 1980]\n",
    "\n",
    "R6=[1908, 1926, 1927, 1944, 1945, 1950, 1954, 1970, 1973, 1976, 1977, 1990, 2010]\n",
    "O9=[1908, 1909, 1926, 1933, 1944, 1945, 1956, 1973, 1976, 1977, 2003, 2006, 2010]\n",
    "\n",
    "R7=[1903, 1906, 1912, 1915, 1935, 1940, 1957, 1962, 1963, 1967, 1996, 2000]\n",
    "O5=[1903, 1910, 1924, 1938, 1947, 1964, 1981, 1991, 1996, 1998, 2000, 2007]\n",
    "\n",
    "R8=[1914, 1923, 1931, 1933, 1946, 1958, 1959, 1961, 1994, 2005, 2006]\n",
    "O1=[1916, 1917, 1959, 1961, 1970, 1975, 1983, 1988, 1994]\n",
    "\n",
    "R9=[1910, 1916, 1917, 1924, 1938, 1942, 1947, 1949, 1956, 1964, 1975, 1978, 1981, 1983, 1988, 1994]\n",
    "O4=[1907, 1912, 1913, 1914, 1919, 1921, 1923, 1927, 1928, 1929, 1930, 1931, 1932, 1934, 1937, 1940, 1942, 1943,\n",
    " 1946, 1949, 1950, 1954, 1955, 1957, 1958, 1960, 1963, 1967, 1978, 1989, 1990, 1992, 1993, 1995, 1997, 2005]\n"
   ]
  },
  {
   "cell_type": "code",
   "execution_count": 10,
   "id": "335092fa",
   "metadata": {},
   "outputs": [],
   "source": [
    "def giveCount(rishi,our):\n",
    "    cnt=0\n",
    "    for i in our:\n",
    "        if(i in rishi):\n",
    "            cnt+=1\n",
    "    return f\"{cnt}/{len(our)}\""
   ]
  },
  {
   "cell_type": "code",
   "execution_count": 13,
   "id": "1e7eaa93",
   "metadata": {},
   "outputs": [
    {
     "name": "stdout",
     "output_type": "stream",
     "text": [
      "3/5\n",
      "4/10\n",
      "6/11\n",
      "0/8\n",
      "5/6\n",
      "8/13\n",
      "3/12\n",
      "3/9\n",
      "3/36\n"
     ]
    }
   ],
   "source": [
    "print(giveCount(R1,O6))\n",
    "print(giveCount(R2,O7))\n",
    "print(giveCount(R3,O3))\n",
    "print(giveCount(R4,O2))\n",
    "print(giveCount(R5,O8))\n",
    "print(giveCount(R6,O9))\n",
    "print(giveCount(R7,O5))\n",
    "print(giveCount(R8,O1))\n",
    "print(giveCount(R9,O4))\n"
   ]
  }
 ],
 "metadata": {
  "kernelspec": {
   "display_name": "Python 3 (ipykernel)",
   "language": "python",
   "name": "python3"
  },
  "language_info": {
   "codemirror_mode": {
    "name": "ipython",
    "version": 3
   },
   "file_extension": ".py",
   "mimetype": "text/x-python",
   "name": "python",
   "nbconvert_exporter": "python",
   "pygments_lexer": "ipython3",
   "version": "3.10.9"
  }
 },
 "nbformat": 4,
 "nbformat_minor": 5
}
